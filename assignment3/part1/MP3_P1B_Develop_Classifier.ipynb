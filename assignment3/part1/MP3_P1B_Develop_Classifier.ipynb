{
 "cells": [
  {
   "cell_type": "markdown",
   "metadata": {
    "id": "2poDIVn8fXMO"
   },
   "source": [
    "# Assignment 3 Part 1: Developing Your Own Classifier"
   ]
  },
  {
   "cell_type": "code",
   "execution_count": null,
   "metadata": {
    "colab": {
     "base_uri": "https://localhost:8080/"
    },
    "executionInfo": {
     "elapsed": 19398,
     "status": "ok",
     "timestamp": 1617081011805,
     "user": {
      "displayName": "Tejaswin Parthasarathy",
      "photoUrl": "",
      "userId": "09598575916527773543"
     },
     "user_tz": 300
    },
    "id": "oc2mOrHSgM7l",
    "outputId": "1b620140-35d3-46d7-e5ef-cf4a5413feaf"
   },
   "outputs": [],
   "source": [
    "from google.colab import drive\n",
    "drive.mount(\"/content/gdrive\")"
   ]
  },
  {
   "cell_type": "code",
   "execution_count": null,
   "metadata": {
    "colab": {
     "base_uri": "https://localhost:8080/"
    },
    "executionInfo": {
     "elapsed": 397,
     "status": "ok",
     "timestamp": 1617081014695,
     "user": {
      "displayName": "Tejaswin Parthasarathy",
      "photoUrl": "",
      "userId": "09598575916527773543"
     },
     "user_tz": 300
    },
    "id": "liNN_Q6pgVwM",
    "outputId": "c0fc51b2-bc95-456e-e8d2-ba7710205890",
    "tags": [
     "noshow"
    ]
   },
   "outputs": [],
   "source": [
    "import os\n",
    "HOME_DIR = os.getcwd()\n",
    "PWD = os.path.join(HOME_DIR, 'gdrive', 'MyDrive', 'Colab Notebooks', 'CS498', 'assignment3_part1')\n",
    "print(PWD)\n",
    "os.chdir(PWD)"
   ]
  },
  {
   "cell_type": "code",
   "execution_count": null,
   "metadata": {
    "executionInfo": {
     "elapsed": 6192,
     "status": "ok",
     "timestamp": 1617081022002,
     "user": {
      "displayName": "Tejaswin Parthasarathy",
      "photoUrl": "",
      "userId": "09598575916527773543"
     },
     "user_tz": 300
    },
    "id": "1WHvYuCJfXMU",
    "tags": [
     "noshow"
    ]
   },
   "outputs": [],
   "source": [
    "import os\n",
    "import numpy as np\n",
    "import torch\n",
    "import torch.nn as nn\n",
    "import torchvision\n",
    "\n",
    "from torchvision import transforms\n",
    "from sklearn.metrics import average_precision_score\n",
    "from PIL import Image, ImageDraw\n",
    "import matplotlib.pyplot as plt\n",
    "from kaggle_submission import output_submission_csv\n",
    "from voc_dataloader import VocDataset, VOC_CLASSES\n",
    "\n",
    "%matplotlib inline\n",
    "%reload_ext autoreload\n",
    "%autoreload 1\n",
    "\n",
    "%aimport classifier"
   ]
  },
  {
   "cell_type": "code",
   "execution_count": null,
   "metadata": {
    "colab": {
     "base_uri": "https://localhost:8080/",
     "height": 35
    },
    "executionInfo": {
     "elapsed": 39353,
     "status": "ok",
     "timestamp": 1617081063324,
     "user": {
      "displayName": "Tejaswin Parthasarathy",
      "photoUrl": "",
      "userId": "09598575916527773543"
     },
     "user_tz": 300
    },
    "id": "ht13HgF0nQwg",
    "outputId": "7dc461d5-b7ed-43ee-c649-56f156594850",
    "tags": [
     "noshow"
    ]
   },
   "outputs": [],
   "source": [
    "import shutil\n",
    "shutil.copyfile(\"VOCtrainval_06-Nov-2007.tar\", \"/content/VOCtrainval_06-Nov-2007.tar\")\n",
    "!tar -xf \"/content/VOCtrainval_06-Nov-2007.tar\" -C \"/content/\" \n",
    "shutil.move(\"/content/VOCdevkit/\", \"/content/VOCdevkit_2007\")\n",
    "\n",
    "shutil.copyfile(\"VOCtest_06-Nov-2007.tar\", \"/content/VOCtest_06-Nov-2007.tar\")\n",
    "!tar -xf \"/content/VOCtest_06-Nov-2007.tar\" -C \"/content/\" \n",
    "shutil.move(\"/content/VOCdevkit/VOC2007\", \"/content/VOCdevkit_2007/VOC2007test\")"
   ]
  },
  {
   "cell_type": "markdown",
   "metadata": {
    "id": "hoYxwiwzfXMX",
    "tags": [
     "noshow"
    ]
   },
   "source": [
    "# Part 1B: Design your own network\n",
    "\n",
    "In this notebook, your task is to create and train your own model for multi-label classification on VOC Pascal.\n",
    "\n",
    "## What to do\n",
    "1. You will make change on network architecture in ```classifier.py```.\n",
    "2. You may also want to change other hyperparameters to assist your training to get a better performances. Hints will be given in the below instructions.\n",
    "\n",
    "## What to submit\n",
    "Check the submission template for details what to submit. "
   ]
  },
  {
   "cell_type": "markdown",
   "metadata": {},
   "source": [
    "## Utilities\n",
    "\n",
    "We only show the utilities that was not provided in the starter code below."
   ]
  },
  {
   "cell_type": "code",
   "execution_count": null,
   "metadata": {
    "executionInfo": {
     "elapsed": 307,
     "status": "ok",
     "timestamp": 1617081067321,
     "user": {
      "displayName": "Tejaswin Parthasarathy",
      "photoUrl": "",
      "userId": "09598575916527773543"
     },
     "user_tz": 300
    },
    "id": "TerzPKjdfXMY",
    "tags": [
     "noshow"
    ]
   },
   "outputs": [],
   "source": [
    "def train_classifier(train_loader, classifier, criterion, optimizer):\n",
    "    classifier.train()\n",
    "    loss_ = 0.0\n",
    "    losses = []\n",
    "    for i, (images, labels) in enumerate(train_loader):\n",
    "        images, labels = images.to(device), labels.to(device)\n",
    "        optimizer.zero_grad()\n",
    "        logits = classifier(images)\n",
    "        loss = criterion(logits, labels)\n",
    "        loss.backward()\n",
    "        optimizer.step()\n",
    "        losses.append(loss)\n",
    "    return torch.stack(losses).mean().item()"
   ]
  },
  {
   "cell_type": "code",
   "execution_count": null,
   "metadata": {
    "executionInfo": {
     "elapsed": 189,
     "status": "ok",
     "timestamp": 1617081067731,
     "user": {
      "displayName": "Tejaswin Parthasarathy",
      "photoUrl": "",
      "userId": "09598575916527773543"
     },
     "user_tz": 300
    },
    "id": "3JTLxrMEfXMY",
    "tags": [
     "noshow"
    ]
   },
   "outputs": [],
   "source": [
    "def test_classifier(test_loader, classifier, criterion, print_ind_classes=True, print_total=True):\n",
    "    classifier.eval()\n",
    "    losses = []\n",
    "    with torch.no_grad():\n",
    "        y_true = np.zeros((0,21))\n",
    "        y_score = np.zeros((0,21))\n",
    "        for i, (images, labels) in enumerate(test_loader):\n",
    "            images, labels = images.to(device), labels.to(device)\n",
    "            logits = classifier(images)\n",
    "            y_true = np.concatenate((y_true, labels.cpu().numpy()), axis=0)\n",
    "            y_score = np.concatenate((y_score, logits.cpu().numpy()), axis=0)\n",
    "            loss = criterion(logits, labels)\n",
    "            losses.append(loss.item())\n",
    "        aps = []\n",
    "        # ignore first class which is background\n",
    "        for i in range(1, y_true.shape[1]):\n",
    "            ap = average_precision_score(y_true[:, i], y_score[:, i])\n",
    "            if print_ind_classes:\n",
    "                print('-------  Class: {:<12}     AP: {:>8.4f}  -------'.format(VOC_CLASSES[i], ap))\n",
    "            aps.append(ap)\n",
    "        \n",
    "        mAP = np.mean(aps)\n",
    "        test_loss = np.mean(losses)\n",
    "        if print_total:\n",
    "            print('mAP: {0:.4f}'.format(mAP))\n",
    "            print('Avg loss: {}'.format(test_loss))\n",
    "        \n",
    "    return mAP, test_loss, aps"
   ]
  },
  {
   "cell_type": "code",
   "execution_count": null,
   "metadata": {
    "executionInfo": {
     "elapsed": 270,
     "status": "ok",
     "timestamp": 1617081069208,
     "user": {
      "displayName": "Tejaswin Parthasarathy",
      "photoUrl": "",
      "userId": "09598575916527773543"
     },
     "user_tz": 300
    },
    "id": "993YpnupfXMZ",
    "tags": [
     "noshow"
    ]
   },
   "outputs": [],
   "source": [
    "def plot_losses(train, val, test_frequency, num_epochs):\n",
    "    plt.plot(train, label=\"train\")\n",
    "    indices = [i for i in range(num_epochs) if ((i+1)%test_frequency == 0 or i ==0)]\n",
    "    plt.plot(indices, val, label=\"val\")\n",
    "    plt.title(\"Loss Plot\")\n",
    "    plt.ylabel(\"Loss\")\n",
    "    plt.xlabel(\"Epoch\")\n",
    "    plt.legend()\n",
    "    plt.show()\n",
    "    \n",
    "def plot_mAP(train, val, test_frequency, num_epochs):\n",
    "    indices = [i for i in range(num_epochs) if ((i+1)%test_frequency == 0 or i ==0)]\n",
    "    plt.plot(indices, train, label=\"train\")\n",
    "    plt.plot(indices, val, label=\"val\")\n",
    "    plt.title(\"mAP Plot\")\n",
    "    plt.ylabel(\"mAP\")\n",
    "    plt.xlabel(\"Epoch\")\n",
    "    plt.legend()\n",
    "    plt.show()\n",
    "    "
   ]
  },
  {
   "cell_type": "code",
   "execution_count": null,
   "metadata": {
    "executionInfo": {
     "elapsed": 674,
     "status": "ok",
     "timestamp": 1617081071051,
     "user": {
      "displayName": "Tejaswin Parthasarathy",
      "photoUrl": "",
      "userId": "09598575916527773543"
     },
     "user_tz": 300
    },
    "id": "B2R3N_CmfXMZ",
    "tags": [
     "noshow"
    ]
   },
   "outputs": [],
   "source": [
    "def train(classifier, num_epochs, train_loader, val_loader, criterion, optimizer, test_frequency=5):\n",
    "    train_losses = []\n",
    "    train_mAPs = []\n",
    "    val_losses = []\n",
    "    val_mAPs = []\n",
    "\n",
    "    for epoch in range(1,num_epochs+1):\n",
    "        print(\"Starting epoch number \" + str(epoch))\n",
    "        train_loss = train_classifier(train_loader, classifier, criterion, optimizer)\n",
    "        train_losses.append(train_loss)\n",
    "        print(\"Loss for Training on Epoch \" +str(epoch) + \" is \"+ str(train_loss))\n",
    "        if(epoch%test_frequency==0 or epoch==1):\n",
    "            mAP_train, _, _ = test_classifier(train_loader, classifier, criterion, False, False)\n",
    "            train_mAPs.append(mAP_train)\n",
    "            mAP_val, val_loss, _ = test_classifier(val_loader, classifier, criterion)\n",
    "            print('Evaluating classifier')\n",
    "            print(\"Mean Precision Score for Testing on Epoch \" +str(epoch) + \" is \"+ str(mAP_val))\n",
    "            val_losses.append(val_loss)\n",
    "            val_mAPs.append(mAP_val)\n",
    "    \n",
    "    return classifier, train_losses, val_losses, train_mAPs, val_mAPs"
   ]
  },
  {
   "cell_type": "code",
   "execution_count": null,
   "metadata": {
    "executionInfo": {
     "elapsed": 186,
     "status": "ok",
     "timestamp": 1617081072389,
     "user": {
      "displayName": "Tejaswin Parthasarathy",
      "photoUrl": "",
      "userId": "09598575916527773543"
     },
     "user_tz": 300
    },
    "id": "rGxCUNEpi0Wh"
   },
   "outputs": [],
   "source": [
    "def summary(net):\n",
    "    X = torch.rand(size=(1, 3, 227, 227), dtype=torch.float32)\n",
    "    pipeline = \"Model summary\"\n",
    "    print(\"=\" * len(pipeline))\n",
    "    print(pipeline)\n",
    "    print(\"=\" * len(pipeline))\n",
    "    print()\n",
    "\n",
    "    pipeline = \"Feature pipeline\"\n",
    "    print(pipeline)\n",
    "    print('-' * len(pipeline))\n",
    "    print()\n",
    "    for layer in net.features:\n",
    "        X = layer(X)\n",
    "        print(\"{:<15}\".format(layer.__class__.__name__), 'output shape: \\t', X.shape)\n",
    "\n",
    "    layer = net.bridge\n",
    "    X = layer(X)\n",
    "    print(\"{:<15}\".format(layer.__class__.__name__), 'output shape: \\t', X.shape)\n",
    "    print()\n",
    "\n",
    "    pipeline = \"Classification pipeline\"\n",
    "    print(pipeline)\n",
    "    print('-' * len(pipeline))\n",
    "    print()\n",
    "    for layer in net.classifier:\n",
    "        X = layer(X)\n",
    "        print(\"{:<15}\".format(layer.__class__.__name__), 'output shape: \\t', X.shape)\n",
    "\n",
    "    return net"
   ]
  },
  {
   "cell_type": "markdown",
   "metadata": {
    "id": "62402olmfXMZ"
   },
   "source": [
    "# Developing Your Own Model\n"
   ]
  },
  {
   "cell_type": "markdown",
   "metadata": {
    "id": "99vjdc-UfXMa"
   },
   "source": [
    "### Goal\n",
    "To meet the benchmark for this assignment you will need to improve the network. Note you should have noticed pretrained Alenxt performs really well, but training Alexnet from scratch performs much worse. We hope you can design a better architecture over both the simple classifier and AlexNet to train from scratch.\n",
    "\n",
    "### How to start\n",
    "You may take inspiration from other published architectures and architectures discussed in lecture. However, you are NOT allowed to use predefined models (e.g. models from torchvision) or use pretrained weights. Training must be done from scratch with your own custom model.\n",
    "\n",
    "#### Some hints\n",
    "There are a variety of different approaches you should try to improve performance from the simple classifier:\n",
    "\n",
    "* Network architecture changes\n",
    "    * Number of layers: try adding layers to make your network deeper\n",
    "    * Batch normalization: adding batch norm between layers will likely give you a significant performance increase\n",
    "    * Residual connections: as you increase the depth of your network, you will find that having residual connections like those in ResNet architectures will be helpful\n",
    "* Optimizer: Instead of plain SGD, you may want to add a learning rate schedule, add momentum, or use one of the other optimizers you have learned about like Adam. Check the `torch.optim` package for other optimizers\n",
    "* Data augmentation: You should use the `torchvision.transforms` module to try adding random resized crops and horizontal flips of the input data. Check `transforms.RandomResizedCrop` and `transforms.RandomHorizontalFlip` for this. Feel free to apply more [transforms](https://pytorch.org/docs/stable/torchvision/transforms.html) for data augmentation which can lead to better performance. \n",
    "* Epochs: Once you have found a generally good hyperparameter setting try training for more epochs\n",
    "* Loss function: You might want to add weighting to the `MultiLabelSoftMarginLoss` for classes that are less well represented or experiment with a different loss function\n",
    "\n",
    "\n",
    "\n",
    "#### Note\n",
    "We will soon be providing some initial expectations of mAP values as a function of epoch so you can get an early idea whether your implementation works without waiting a long time for training to converge.\n",
    "\n",
    "### What to submit \n",
    "Submit your best model to Kaggle and save all plots for the writeup.\n"
   ]
  },
  {
   "cell_type": "markdown",
   "metadata": {},
   "source": [
    "## Data augmentation\n",
    "\n",
    "To better model the data, we augment it by the transformatios shown below, drawing inspiration from [this](https://towardsdatascience.com/improves-cnn-performance-by-applying-data-transformation-bf86b3f4cef4) Medium post . In the color jitter I didn't change the relative concentration of color channels (i.e. saturate or hue) because the `normalize` transformations might need to change if thats the case."
   ]
  },
  {
   "cell_type": "code",
   "execution_count": null,
   "metadata": {
    "colab": {
     "base_uri": "https://localhost:8080/"
    },
    "executionInfo": {
     "elapsed": 1656,
     "status": "ok",
     "timestamp": 1617081080485,
     "user": {
      "displayName": "Tejaswin Parthasarathy",
      "photoUrl": "",
      "userId": "09598575916527773543"
     },
     "user_tz": 300
    },
    "id": "dULpJLx6fXMb",
    "outputId": "cd797431-f8cc-40f3-9e48-55b9df908591"
   },
   "outputs": [],
   "source": [
    "device = torch.device(\"cuda:0\" if torch.cuda.is_available() else \"cpu\")\n",
    "\n",
    "normalize = transforms.Normalize(mean=[0.485, 0.456, 0.406],\n",
    "                                     std= [0.229, 0.224, 0.225])\n",
    "\n",
    "# Inspired from https://towardsdatascience.com/improves-cnn-performance-by-applying-data-transformation-bf86b3f4cef4\n",
    "train_transform = transforms.Compose([\n",
    "            transforms.RandomResizedCrop(227),\n",
    "            transforms.RandomVerticalFlip(p=0.5),\n",
    "            transforms.RandomHorizontalFlip(p=0.5),\n",
    "            transforms.ColorJitter(brightness=0.5, contrast=0.5),\n",
    "            transforms.ToTensor(),\n",
    "            normalize\n",
    "        ])\n",
    "\n",
    "test_transform = transforms.Compose([\n",
    "            transforms.Resize(227),\n",
    "            transforms.CenterCrop(227),\n",
    "            transforms.ToTensor(),\n",
    "            normalize,\n",
    "        ])\n",
    "\n",
    "ds_train = VocDataset('/content/VOCdevkit_2007/VOC2007/','train',train_transform)\n",
    "ds_val = VocDataset('/content/VOCdevkit_2007/VOC2007/','val', test_transform)\n",
    "ds_test = VocDataset('/content/VOCdevkit_2007/VOC2007test/','test', test_transform)\n"
   ]
  },
  {
   "cell_type": "code",
   "execution_count": null,
   "metadata": {
    "executionInfo": {
     "elapsed": 202,
     "status": "ok",
     "timestamp": 1617081081763,
     "user": {
      "displayName": "Tejaswin Parthasarathy",
      "photoUrl": "",
      "userId": "09598575916527773543"
     },
     "user_tz": 300
    },
    "id": "yO5PoarTfXMc"
   },
   "outputs": [],
   "source": [
    "num_epochs = 100\n",
    "test_frequency = 5\n",
    "batch_size = 64\n",
    "\n",
    "train_loader = torch.utils.data.DataLoader(dataset=ds_train,\n",
    "                                               batch_size=batch_size, \n",
    "                                               shuffle=True,\n",
    "                                               num_workers=1)\n",
    "\n",
    "val_loader = torch.utils.data.DataLoader(dataset=ds_val,\n",
    "                                               batch_size=batch_size, \n",
    "                                               shuffle=True,\n",
    "                                               num_workers=1)\n",
    "\n",
    "test_loader = torch.utils.data.DataLoader(dataset=ds_test,\n",
    "                                               batch_size=batch_size, \n",
    "                                               shuffle=False,\n",
    "                                               num_workers=1)"
   ]
  },
  {
   "cell_type": "markdown",
   "metadata": {},
   "source": [
    "# Results\n",
    "\n",
    "## Network structure\n",
    "\n",
    "All networks shown below consist of three distinct modular parts : the feature extractor, the classifier and a bridge between these two. The feature extractor comprises of CNN architecture. The classifer comprises of fully-connected layers. In all our cases the bridge is just a `flatten()` operation, although in principle, any arbitrary transformations can be applied (an activation for example).\n",
    "\n",
    "Furthermore, we employ both optimization algorithms (SGD and Adam), but only report results for Adam.\n",
    "\n",
    "## BaseNet\n",
    "I recoded the base-network in the structure introduced above. The model summary shows the shape of the outputs as the features get refined. "
   ]
  },
  {
   "cell_type": "code",
   "execution_count": null,
   "metadata": {
    "colab": {
     "base_uri": "https://localhost:8080/"
    },
    "executionInfo": {
     "elapsed": 212,
     "status": "ok",
     "timestamp": 1617066705198,
     "user": {
      "displayName": "Tejaswin Parthasarathy",
      "photoUrl": "",
      "userId": "09598575916527773543"
     },
     "user_tz": 300
    },
    "id": "w90vWNTTfXMc",
    "outputId": "41ccb054-d246-4e87-fdf3-685f1c3eca53"
   },
   "outputs": [],
   "source": [
    "# TODO: Run your own classifier here\n",
    "from classifier import MySimpleClassifier\n",
    "classifier = summary(MySimpleClassifier()).to(device)\n",
    "\n",
    "criterion = nn.MultiLabelSoftMarginLoss()\n",
    "# optimizer = torch.optim.SGD(classifier.parameters(), lr=0.01, momentum=0.9)\n",
    "optimizer = torch.optim.Adam(classifier.parameters(), lr=1e-4)"
   ]
  },
  {
   "cell_type": "markdown",
   "metadata": {
    "id": "r1MFrJ0Wn-A-"
   },
   "source": [
    "We train the model now, but skip the output for brevity."
   ]
  },
  {
   "cell_type": "code",
   "execution_count": null,
   "metadata": {
    "colab": {
     "base_uri": "https://localhost:8080/"
    },
    "executionInfo": {
     "elapsed": 3168683,
     "status": "ok",
     "timestamp": 1617069892043,
     "user": {
      "displayName": "Tejaswin Parthasarathy",
      "photoUrl": "",
      "userId": "09598575916527773543"
     },
     "user_tz": 300
    },
    "id": "VdxwWtCJn8rK",
    "outputId": "6b6a2cfa-0c47-4d32-d58f-9fd27d5bafcf",
    "tags": [
     "noshow"
    ]
   },
   "outputs": [],
   "source": [
    "classifier, train_losses, val_losses, train_mAPs, val_mAPs = train(classifier, num_epochs, train_loader, val_loader, criterion, optimizer, test_frequency)"
   ]
  },
  {
   "cell_type": "code",
   "execution_count": null,
   "metadata": {
    "colab": {
     "base_uri": "https://localhost:8080/",
     "height": 573
    },
    "executionInfo": {
     "elapsed": 570,
     "status": "ok",
     "timestamp": 1617071116971,
     "user": {
      "displayName": "Tejaswin Parthasarathy",
      "photoUrl": "",
      "userId": "09598575916527773543"
     },
     "user_tz": 300
    },
    "id": "V6H2mCq9fXMc",
    "outputId": "eb36a4df-1194-4400-a37e-54d739d0c8f3"
   },
   "outputs": [],
   "source": [
    "plot_losses(train_losses, val_losses, test_frequency, num_epochs)\n",
    "plot_mAP(train_mAPs, val_mAPs, test_frequency, num_epochs)"
   ]
  },
  {
   "cell_type": "code",
   "execution_count": null,
   "metadata": {
    "colab": {
     "base_uri": "https://localhost:8080/"
    },
    "executionInfo": {
     "elapsed": 40727,
     "status": "ok",
     "timestamp": 1617071165547,
     "user": {
      "displayName": "Tejaswin Parthasarathy",
      "photoUrl": "",
      "userId": "09598575916527773543"
     },
     "user_tz": 300
    },
    "id": "ZtwKKBXufXMd",
    "outputId": "e1eeb13d-c73b-48ab-9016-c3416a454db5"
   },
   "outputs": [],
   "source": [
    "mAP_test, test_loss, test_aps = test_classifier(test_loader, classifier, criterion)\n",
    "print(mAP_test)"
   ]
  },
  {
   "cell_type": "code",
   "execution_count": null,
   "metadata": {
    "executionInfo": {
     "elapsed": 240,
     "status": "ok",
     "timestamp": 1617071234535,
     "user": {
      "displayName": "Tejaswin Parthasarathy",
      "photoUrl": "",
      "userId": "09598575916527773543"
     },
     "user_tz": 300
    },
    "id": "bZm-GBg7fXMd",
    "tags": [
     "noshow"
    ]
   },
   "outputs": [],
   "source": [
    "torch.save(classifier.state_dict(), './voc_p1b_simple_classifier.pth')"
   ]
  },
  {
   "cell_type": "markdown",
   "metadata": {},
   "source": [
    "## Version 1\n",
    "\n",
    "From the base network, we make two changes.\n",
    "\n",
    "- Inspired by **VGGnet**, we replace the first 5x5 conv layer with 2 3x3 layers. This retains the receptive fields, while decreasing the number of parameters to train.\n",
    "- Drawing inspiration from **VGGnet** again, we increase the number of channels with depth from 3->64->128->256 (as opposed to the basenet which had decreasing number of channels, from 3->64->32->16). \n",
    "- To retain the classifier architecture from Basenet (so as to not make too many changes in one version), we use a 1x1 conv layer and reduce the 256 channels from the previous layers to 16 channels. This 1x1 conv is inspired by **Network in Network (NiN)**. "
   ]
  },
  {
   "cell_type": "code",
   "execution_count": null,
   "metadata": {
    "colab": {
     "base_uri": "https://localhost:8080/"
    },
    "executionInfo": {
     "elapsed": 272,
     "status": "ok",
     "timestamp": 1617071237277,
     "user": {
      "displayName": "Tejaswin Parthasarathy",
      "photoUrl": "",
      "userId": "09598575916527773543"
     },
     "user_tz": 300
    },
    "id": "DrU4sBjfX0P-",
    "outputId": "97f25070-ba81-44a1-a77c-8801cf4ce221"
   },
   "outputs": [],
   "source": [
    "# TODO: Run your own classifier here\n",
    "from classifier import MyClassifierV1\n",
    "classifier = summary(MyClassifierV1()).to(device)\n",
    "\n",
    "criterion = nn.MultiLabelSoftMarginLoss()\n",
    "# optimizer = torch.optim.SGD(classifier.parameters(), lr=0.01, momentum=0.9)\n",
    "optimizer = torch.optim.Adam(classifier.parameters(), lr=1e-4)"
   ]
  },
  {
   "cell_type": "markdown",
   "metadata": {
    "id": "t30bGiqjX0QK"
   },
   "source": [
    "We train the model now, but skip the output for brevity."
   ]
  },
  {
   "cell_type": "code",
   "execution_count": null,
   "metadata": {
    "colab": {
     "base_uri": "https://localhost:8080/"
    },
    "executionInfo": {
     "elapsed": 3291297,
     "status": "ok",
     "timestamp": 1617074535089,
     "user": {
      "displayName": "Tejaswin Parthasarathy",
      "photoUrl": "",
      "userId": "09598575916527773543"
     },
     "user_tz": 300
    },
    "id": "9-MUOowvX0QL",
    "outputId": "cf73f508-d461-4872-be65-a3f47680751b",
    "tags": [
     "noshow"
    ]
   },
   "outputs": [],
   "source": [
    "classifier, train_losses, val_losses, train_mAPs, val_mAPs = train(classifier, num_epochs, train_loader, val_loader, criterion, optimizer, test_frequency)"
   ]
  },
  {
   "cell_type": "code",
   "execution_count": null,
   "metadata": {
    "colab": {
     "base_uri": "https://localhost:8080/",
     "height": 573
    },
    "executionInfo": {
     "elapsed": 497,
     "status": "ok",
     "timestamp": 1617074559104,
     "user": {
      "displayName": "Tejaswin Parthasarathy",
      "photoUrl": "",
      "userId": "09598575916527773543"
     },
     "user_tz": 300
    },
    "id": "5-_7a9R6cotU",
    "outputId": "625135f0-affa-4f36-a9c5-2718ff100676"
   },
   "outputs": [],
   "source": [
    "plot_losses(train_losses, val_losses, test_frequency, num_epochs)\n",
    "plot_mAP(train_mAPs, val_mAPs, test_frequency, num_epochs)"
   ]
  },
  {
   "cell_type": "code",
   "execution_count": null,
   "metadata": {
    "colab": {
     "base_uri": "https://localhost:8080/"
    },
    "executionInfo": {
     "elapsed": 43179,
     "status": "ok",
     "timestamp": 1617074620048,
     "user": {
      "displayName": "Tejaswin Parthasarathy",
      "photoUrl": "",
      "userId": "09598575916527773543"
     },
     "user_tz": 300
    },
    "id": "kJCXCgUumv1L",
    "outputId": "0035a7ec-6e17-4d11-b9f3-f69d69347759"
   },
   "outputs": [],
   "source": [
    "mAP_test, test_loss, test_aps = test_classifier(test_loader, classifier, criterion)\n",
    "print(mAP_test)"
   ]
  },
  {
   "cell_type": "code",
   "execution_count": null,
   "metadata": {
    "executionInfo": {
     "elapsed": 487,
     "status": "ok",
     "timestamp": 1617074628106,
     "user": {
      "displayName": "Tejaswin Parthasarathy",
      "photoUrl": "",
      "userId": "09598575916527773543"
     },
     "user_tz": 300
    },
    "id": "VGWPK6vyKCt1",
    "tags": [
     "noshow"
    ]
   },
   "outputs": [],
   "source": [
    "torch.save(classifier.state_dict(), './voc_p1b_my_classifier_v1_100epochs.pth')"
   ]
  },
  {
   "cell_type": "markdown",
   "metadata": {},
   "source": [
    "## Version 2\n",
    "\n",
    "We only see a marginal improvement in Version 1. One possible reason is that the network has enough representational power, but cannot effectively learn because of vanishing ReLU gradients in the deep convolutional layers.\n",
    "\n",
    "From Version 1, then we make one change.\n",
    "\n",
    "- Inspired by **GoogleNet (Inception v3)**, add BatchNorm layers after the convolution, but before the ReLU. The idea is to make at least one part of the network effectively learn. "
   ]
  },
  {
   "cell_type": "code",
   "execution_count": null,
   "metadata": {
    "colab": {
     "base_uri": "https://localhost:8080/"
    },
    "executionInfo": {
     "elapsed": 318,
     "status": "ok",
     "timestamp": 1617074703319,
     "user": {
      "displayName": "Tejaswin Parthasarathy",
      "photoUrl": "",
      "userId": "09598575916527773543"
     },
     "user_tz": 300
    },
    "id": "OUk4ElJqenId",
    "outputId": "ecf6423a-c163-4b97-b2d3-291986a7951e"
   },
   "outputs": [],
   "source": [
    "# TODO: Run your own classifier here\n",
    "from classifier import MyClassifierV2\n",
    "classifier = summary(MyClassifierV2()).to(device)\n",
    "\n",
    "criterion = nn.MultiLabelSoftMarginLoss()\n",
    "# optimizer = torch.optim.SGD(classifier.parameters(), lr=0.01, momentum=0.9)\n",
    "optimizer = torch.optim.Adam(classifier.parameters(), lr=1e-4)"
   ]
  },
  {
   "cell_type": "markdown",
   "metadata": {},
   "source": [
    "We train the model now, but skip the output for brevity."
   ]
  },
  {
   "cell_type": "code",
   "execution_count": null,
   "metadata": {
    "colab": {
     "base_uri": "https://localhost:8080/"
    },
    "executionInfo": {
     "elapsed": 3393040,
     "status": "ok",
     "timestamp": 1617078111416,
     "user": {
      "displayName": "Tejaswin Parthasarathy",
      "photoUrl": "",
      "userId": "09598575916527773543"
     },
     "user_tz": 300
    },
    "id": "9NChikaqf7fo",
    "outputId": "7e54805d-3663-49d5-9160-48613a6dc6f3",
    "tags": [
     "noshow"
    ]
   },
   "outputs": [],
   "source": [
    "classifier, train_losses, val_losses, train_mAPs, val_mAPs = train(classifier, num_epochs, train_loader, val_loader, criterion, optimizer, test_frequency)"
   ]
  },
  {
   "cell_type": "code",
   "execution_count": null,
   "metadata": {
    "colab": {
     "base_uri": "https://localhost:8080/",
     "height": 573
    },
    "executionInfo": {
     "elapsed": 561,
     "status": "ok",
     "timestamp": 1617078151632,
     "user": {
      "displayName": "Tejaswin Parthasarathy",
      "photoUrl": "",
      "userId": "09598575916527773543"
     },
     "user_tz": 300
    },
    "id": "1ko__yVkf_Aw",
    "outputId": "d22a2ce5-f0b6-4818-9a14-2d52ceaa49ea"
   },
   "outputs": [],
   "source": [
    "plot_losses(train_losses, val_losses, test_frequency, num_epochs)\n",
    "plot_mAP(train_mAPs, val_mAPs, test_frequency, num_epochs)"
   ]
  },
  {
   "cell_type": "code",
   "execution_count": null,
   "metadata": {
    "colab": {
     "base_uri": "https://localhost:8080/"
    },
    "executionInfo": {
     "elapsed": 45508,
     "status": "ok",
     "timestamp": 1617078217893,
     "user": {
      "displayName": "Tejaswin Parthasarathy",
      "photoUrl": "",
      "userId": "09598575916527773543"
     },
     "user_tz": 300
    },
    "id": "OmcgnAzkmz_6",
    "outputId": "7399bc78-dead-4f4d-d10a-5c1abf8b5924"
   },
   "outputs": [],
   "source": [
    "mAP_test, test_loss, test_aps = test_classifier(test_loader, classifier, criterion)\n",
    "print(mAP_test)"
   ]
  },
  {
   "cell_type": "code",
   "execution_count": null,
   "metadata": {
    "executionInfo": {
     "elapsed": 181,
     "status": "ok",
     "timestamp": 1617078233303,
     "user": {
      "displayName": "Tejaswin Parthasarathy",
      "photoUrl": "",
      "userId": "09598575916527773543"
     },
     "user_tz": 300
    },
    "id": "eKdxMlQHX5Vc",
    "tags": [
     "noshow"
    ]
   },
   "outputs": [],
   "source": [
    "torch.save(classifier.state_dict(), './voc_p1b_my_classifier_v2_100epochs.pth')"
   ]
  },
  {
   "cell_type": "markdown",
   "metadata": {},
   "source": [
    "## Version 3\n",
    "\n",
    "We see a good improvement in mAP for Version 2. But here, there may be a chance to further improve generalization and learning. The reduction of 256 channels to 16 channels in the last layer using 1x1 convolutions seems aggressive---the classifier might be getting data that is too correlated.\n",
    "\n",
    "To prevent this, we \n",
    "\n",
    "- Use 1x1 convolutions to reduce 256 channels to 128 channels. To accommodate these additional degrees of freedom, we make the classifier more bulky by adding width to the linear layers. This has its roots in **AlexNet**, where the MLP is very wide. Here we choose to make the 128 x 26 x 26  = 86528 outputs map onto a 1024 wide MLP, which in turn maps onto a 420 layer MLP which then maps to 21 scores. The numbers were chosen based on the same the ratio of neurons between MLP as Version 2."
   ]
  },
  {
   "cell_type": "code",
   "execution_count": null,
   "metadata": {
    "colab": {
     "base_uri": "https://localhost:8080/"
    },
    "executionInfo": {
     "elapsed": 11773,
     "status": "ok",
     "timestamp": 1617081122633,
     "user": {
      "displayName": "Tejaswin Parthasarathy",
      "photoUrl": "",
      "userId": "09598575916527773543"
     },
     "user_tz": 300
    },
    "id": "MJj92SARiKq0",
    "outputId": "4ce756c9-2e84-417a-dd48-be2f306eb227"
   },
   "outputs": [],
   "source": [
    "# TODO: Run your own classifier here\n",
    "from classifier import MyClassifierV3\n",
    "classifier = summary(MyClassifierV3()).to(device)\n",
    "\n",
    "criterion = nn.MultiLabelSoftMarginLoss()\n",
    "# optimizer = torch.optim.SGD(classifier.parameters(), lr=0.01, momentum=0.9)\n",
    "optimizer = torch.optim.Adam(classifier.parameters(), lr=1e-4)"
   ]
  },
  {
   "cell_type": "markdown",
   "metadata": {},
   "source": [
    "We train the model now, but skip the output for brevity."
   ]
  },
  {
   "cell_type": "code",
   "execution_count": null,
   "metadata": {
    "colab": {
     "base_uri": "https://localhost:8080/"
    },
    "executionInfo": {
     "elapsed": 2875133,
     "status": "ok",
     "timestamp": 1617084001732,
     "user": {
      "displayName": "Tejaswin Parthasarathy",
      "photoUrl": "",
      "userId": "09598575916527773543"
     },
     "user_tz": 300
    },
    "id": "ukuYe9Nxkd0D",
    "outputId": "d677153a-d9a7-475a-81b0-9fc0897a32f0",
    "tags": [
     "noshow"
    ]
   },
   "outputs": [],
   "source": [
    "classifier, train_losses, val_losses, train_mAPs, val_mAPs = train(classifier, num_epochs, train_loader, val_loader, criterion, optimizer, test_frequency)"
   ]
  },
  {
   "cell_type": "code",
   "execution_count": null,
   "metadata": {
    "colab": {
     "base_uri": "https://localhost:8080/",
     "height": 573
    },
    "executionInfo": {
     "elapsed": 628,
     "status": "ok",
     "timestamp": 1617084015712,
     "user": {
      "displayName": "Tejaswin Parthasarathy",
      "photoUrl": "",
      "userId": "09598575916527773543"
     },
     "user_tz": 300
    },
    "id": "55bTe-tokmHp",
    "outputId": "3b722b08-250c-42ac-a8e1-b72699412c4e"
   },
   "outputs": [],
   "source": [
    "plot_losses(train_losses, val_losses, test_frequency, num_epochs)\n",
    "plot_mAP(train_mAPs, val_mAPs, test_frequency, num_epochs)"
   ]
  },
  {
   "cell_type": "code",
   "execution_count": null,
   "metadata": {
    "colab": {
     "base_uri": "https://localhost:8080/"
    },
    "executionInfo": {
     "elapsed": 36923,
     "status": "ok",
     "timestamp": 1617084070887,
     "user": {
      "displayName": "Tejaswin Parthasarathy",
      "photoUrl": "",
      "userId": "09598575916527773543"
     },
     "user_tz": 300
    },
    "id": "xoS8TTzAm2Ma",
    "outputId": "ecad823c-dfb6-4297-d0cb-13780adc3749"
   },
   "outputs": [],
   "source": [
    "mAP_test, test_loss, test_aps = test_classifier(test_loader, classifier, criterion)\n",
    "print(mAP_test)"
   ]
  },
  {
   "cell_type": "code",
   "execution_count": null,
   "metadata": {
    "executionInfo": {
     "elapsed": 1904,
     "status": "ok",
     "timestamp": 1617084130174,
     "user": {
      "displayName": "Tejaswin Parthasarathy",
      "photoUrl": "",
      "userId": "09598575916527773543"
     },
     "user_tz": 300
    },
    "id": "-Mzn40TkuNN_",
    "tags": [
     "noshow"
    ]
   },
   "outputs": [],
   "source": [
    "torch.save(classifier.state_dict(), './voc_p1b_my_classifier_v3_100epochs.pth')\n",
    "output_submission_csv('my_solution_for_v3.csv', test_aps)"
   ]
  },
  {
   "cell_type": "markdown",
   "metadata": {},
   "source": [
    "## Version 4\n",
    "\n",
    "We see a marginal improvement in mAP for Version 3. However what is more concerning is that the generalization decreases, as evident from the growing gap between training and validation losses. The probable reason is that by increasing the width of the linear layers, we have added too many degrees of freedom and the network starts overfitting. Additionally, these degrees of freedom imply that we need to train the network for longer duration.\n",
    "\n",
    "While there are several ways to prevent overfitting in the classification layers (dropout, L2 loss regularization), we also need means to reduce the degrees of freedom. We achieve this by\n",
    "\n",
    "- Retaining the classifeir structure from V3 (for its generalization capabilites), but adding an average pooling layer, inspired by **GoogleNet (Inception v3)** and **NiN** ,at the end of the feature extractor. The average pooling size is 5x5 to roughly recover the degrees of freedom as the V2 architecture. "
   ]
  },
  {
   "cell_type": "code",
   "execution_count": null,
   "metadata": {
    "colab": {
     "base_uri": "https://localhost:8080/"
    },
    "executionInfo": {
     "elapsed": 325,
     "status": "ok",
     "timestamp": 1617084217709,
     "user": {
      "displayName": "Tejaswin Parthasarathy",
      "photoUrl": "",
      "userId": "09598575916527773543"
     },
     "user_tz": 300
    },
    "id": "L0TegSVZm7nu",
    "outputId": "b626eb13-8094-43cd-fd00-9a3ecb06946c"
   },
   "outputs": [],
   "source": [
    "# TODO: Run your own classifier here\n",
    "from classifier import MyClassifierV4\n",
    "classifier = summary(MyClassifierV4()).to(device)\n",
    "\n",
    "criterion = nn.MultiLabelSoftMarginLoss()\n",
    "# optimizer = torch.optim.SGD(classifier.parameters(), lr=0.01, momentum=0.9)\n",
    "optimizer = torch.optim.Adam(classifier.parameters(), lr=1e-4)"
   ]
  },
  {
   "cell_type": "markdown",
   "metadata": {},
   "source": [
    "We train the model now, but skip the output for brevity."
   ]
  },
  {
   "cell_type": "code",
   "execution_count": null,
   "metadata": {
    "colab": {
     "base_uri": "https://localhost:8080/"
    },
    "executionInfo": {
     "elapsed": 2925231,
     "status": "ok",
     "timestamp": 1617087146498,
     "user": {
      "displayName": "Tejaswin Parthasarathy",
      "photoUrl": "",
      "userId": "09598575916527773543"
     },
     "user_tz": 300
    },
    "id": "Cg--f30dseCZ",
    "outputId": "9e290da4-1c10-448f-8763-cb3681d53819",
    "tags": [
     "noshow"
    ]
   },
   "outputs": [],
   "source": [
    "classifier, train_losses, val_losses, train_mAPs, val_mAPs = train(classifier, num_epochs, train_loader, val_loader, criterion, optimizer, test_frequency)"
   ]
  },
  {
   "cell_type": "code",
   "execution_count": null,
   "metadata": {
    "colab": {
     "base_uri": "https://localhost:8080/",
     "height": 573
    },
    "executionInfo": {
     "elapsed": 505,
     "status": "ok",
     "timestamp": 1617087167627,
     "user": {
      "displayName": "Tejaswin Parthasarathy",
      "photoUrl": "",
      "userId": "09598575916527773543"
     },
     "user_tz": 300
    },
    "id": "obCZOqRusnO2",
    "outputId": "fe00f2ca-7cf4-436b-c712-8ea5d204030f"
   },
   "outputs": [],
   "source": [
    "plot_losses(train_losses, val_losses, test_frequency, num_epochs)\n",
    "plot_mAP(train_mAPs, val_mAPs, test_frequency, num_epochs)"
   ]
  },
  {
   "cell_type": "code",
   "execution_count": null,
   "metadata": {
    "colab": {
     "base_uri": "https://localhost:8080/"
    },
    "executionInfo": {
     "elapsed": 36849,
     "status": "ok",
     "timestamp": 1617087218692,
     "user": {
      "displayName": "Tejaswin Parthasarathy",
      "photoUrl": "",
      "userId": "09598575916527773543"
     },
     "user_tz": 300
    },
    "id": "F-2k6CHq3vmt",
    "outputId": "281b8e17-1157-4d1a-81e3-2be4af5cebab"
   },
   "outputs": [],
   "source": [
    "mAP_test, test_loss, test_aps = test_classifier(test_loader, classifier, criterion)\n",
    "print(mAP_test)"
   ]
  },
  {
   "cell_type": "code",
   "execution_count": null,
   "metadata": {
    "executionInfo": {
     "elapsed": 321,
     "status": "ok",
     "timestamp": 1617087230800,
     "user": {
      "displayName": "Tejaswin Parthasarathy",
      "photoUrl": "",
      "userId": "09598575916527773543"
     },
     "user_tz": 300
    },
    "id": "nfHo3_T86HHH",
    "tags": [
     "noshow"
    ]
   },
   "outputs": [],
   "source": [
    "torch.save(classifier.state_dict(), './voc_p1b_my_classifier_v4_100epochs.pth')\n",
    "output_submission_csv('my_solution_for_v4.csv', test_aps)"
   ]
  },
  {
   "cell_type": "markdown",
   "metadata": {},
   "source": [
    "## Version 5\n",
    "\n",
    "We once again see a marginal improvement in mAP for Version 4. The network also seems to perform favorably (i.e. both training and validation loss decrease together).\n",
    "\n",
    "To test the effects of potential overfitting in the classification layers, we now\n",
    "\n",
    "- Add Dropout in the MLP inspired by **AlexNet**"
   ]
  },
  {
   "cell_type": "code",
   "execution_count": null,
   "metadata": {
    "colab": {
     "base_uri": "https://localhost:8080/"
    },
    "executionInfo": {
     "elapsed": 364,
     "status": "ok",
     "timestamp": 1617060745536,
     "user": {
      "displayName": "Tejaswin Parthasarathy",
      "photoUrl": "",
      "userId": "09598575916527773543"
     },
     "user_tz": 300
    },
    "id": "rHuPZ7rGv45a",
    "outputId": "67c05f02-6945-4f68-a4ee-b447e5429481"
   },
   "outputs": [],
   "source": [
    "# TODO: Run your own classifier here\n",
    "from classifier import MyClassifierV5\n",
    "classifier = summary(MyClassifierV5()).to(device)\n",
    "\n",
    "criterion = nn.MultiLabelSoftMarginLoss()\n",
    "# optimizer = torch.optim.SGD(classifier.parameters(), lr=0.01, momentum=0.9)\n",
    "optimizer = torch.optim.Adam(classifier.parameters(), lr=1e-4)"
   ]
  },
  {
   "cell_type": "markdown",
   "metadata": {},
   "source": [
    "We train the model now, but skip the output for brevity."
   ]
  },
  {
   "cell_type": "code",
   "execution_count": null,
   "metadata": {
    "colab": {
     "base_uri": "https://localhost:8080/"
    },
    "executionInfo": {
     "elapsed": 3252630,
     "status": "ok",
     "timestamp": 1617064004154,
     "user": {
      "displayName": "Tejaswin Parthasarathy",
      "photoUrl": "",
      "userId": "09598575916527773543"
     },
     "user_tz": 300
    },
    "id": "nfE8T0pEzsKe",
    "outputId": "eca64ba1-887e-466c-dfc8-c8e0bb81c5c5",
    "tags": [
     "noshow"
    ]
   },
   "outputs": [],
   "source": [
    "classifier, train_losses, val_losses, train_mAPs, val_mAPs = train(classifier, num_epochs, train_loader, val_loader, criterion, optimizer, test_frequency)"
   ]
  },
  {
   "cell_type": "code",
   "execution_count": null,
   "metadata": {
    "colab": {
     "base_uri": "https://localhost:8080/",
     "height": 573
    },
    "executionInfo": {
     "elapsed": 501,
     "status": "ok",
     "timestamp": 1617065045625,
     "user": {
      "displayName": "Tejaswin Parthasarathy",
      "photoUrl": "",
      "userId": "09598575916527773543"
     },
     "user_tz": 300
    },
    "id": "PpwtLzM10L94",
    "outputId": "6a734369-2ddc-4a6f-fa30-37839d189b94"
   },
   "outputs": [],
   "source": [
    "plot_losses(train_losses, val_losses, test_frequency, num_epochs)\n",
    "plot_mAP(train_mAPs, val_mAPs, test_frequency, num_epochs)"
   ]
  },
  {
   "cell_type": "code",
   "execution_count": null,
   "metadata": {
    "colab": {
     "base_uri": "https://localhost:8080/"
    },
    "executionInfo": {
     "elapsed": 42417,
     "status": "ok",
     "timestamp": 1617066609923,
     "user": {
      "displayName": "Tejaswin Parthasarathy",
      "photoUrl": "",
      "userId": "09598575916527773543"
     },
     "user_tz": 300
    },
    "id": "QSggREat3o9n",
    "outputId": "2511d824-72be-497b-cec2-0760d11aec6d"
   },
   "outputs": [],
   "source": [
    "mAP_test, test_loss, test_aps = test_classifier(test_loader, classifier, criterion)\n",
    "print(mAP_test)"
   ]
  },
  {
   "cell_type": "code",
   "execution_count": null,
   "metadata": {
    "executionInfo": {
     "elapsed": 476,
     "status": "ok",
     "timestamp": 1617065176684,
     "user": {
      "displayName": "Tejaswin Parthasarathy",
      "photoUrl": "",
      "userId": "09598575916527773543"
     },
     "user_tz": 300
    },
    "id": "bZv82iv_mC8d",
    "tags": [
     "noshow"
    ]
   },
   "outputs": [],
   "source": [
    "torch.save(classifier.state_dict(), './voc_best_classifier.pth')\n",
    "output_submission_csv('my_solution.csv', test_aps)"
   ]
  },
  {
   "cell_type": "code",
   "execution_count": null,
   "metadata": {
    "colab": {
     "base_uri": "https://localhost:8080/"
    },
    "executionInfo": {
     "elapsed": 311,
     "status": "ok",
     "timestamp": 1617066562935,
     "user": {
      "displayName": "Tejaswin Parthasarathy",
      "photoUrl": "",
      "userId": "09598575916527773543"
     },
     "user_tz": 300
    },
    "id": "C7vyiXOVqnhh",
    "outputId": "88a87111-bf62-4ce9-8568-f8bcf8608b26",
    "tags": [
     "noshow"
    ]
   },
   "outputs": [],
   "source": [
    "classifier.load_state_dict(torch.load(\n",
    "    './voc_best_classifier.pth'\n",
    "))"
   ]
  },
  {
   "cell_type": "code",
   "execution_count": null,
   "metadata": {
    "colab": {
     "base_uri": "https://localhost:8080/"
    },
    "executionInfo": {
     "elapsed": 517,
     "status": "ok",
     "timestamp": 1617059190926,
     "user": {
      "displayName": "Tejaswin Parthasarathy",
      "photoUrl": "",
      "userId": "09598575916527773543"
     },
     "user_tz": 300
    },
    "id": "JKTHmLDk3xpT",
    "outputId": "ecdeb4d9-42a8-4595-92f4-bd80b4c3f0be",
    "tags": [
     "noshow"
    ]
   },
   "outputs": [],
   "source": [
    "# TODO: Run your own classifier here\n",
    "from classifier import MyClassifierV6\n",
    "classifier = summary(MyClassifierV6()).to(device)\n",
    "\n",
    "criterion = nn.MultiLabelSoftMarginLoss()\n",
    "# optimizer = torch.optim.SGD(classifier.parameters(), lr=0.01, momentum=0.9)\n",
    "optimizer = torch.optim.Adam(classifier.parameters(), lr=1e-4)"
   ]
  },
  {
   "cell_type": "code",
   "execution_count": null,
   "metadata": {
    "colab": {
     "base_uri": "https://localhost:8080/"
    },
    "executionInfo": {
     "elapsed": 1336032,
     "status": "ok",
     "timestamp": 1617060535335,
     "user": {
      "displayName": "Tejaswin Parthasarathy",
      "photoUrl": "",
      "userId": "09598575916527773543"
     },
     "user_tz": 300
    },
    "id": "zI6hnL_3PMiz",
    "outputId": "26a22232-34f7-4a6b-c9bc-15062e0f6ea5",
    "tags": [
     "noshow"
    ]
   },
   "outputs": [],
   "source": [
    "classifier, train_losses, val_losses, train_mAPs, val_mAPs = train(classifier, num_epochs, train_loader, val_loader, criterion, optimizer, test_frequency)"
   ]
  },
  {
   "cell_type": "code",
   "execution_count": null,
   "metadata": {
    "colab": {
     "base_uri": "https://localhost:8080/",
     "height": 573
    },
    "executionInfo": {
     "elapsed": 560,
     "status": "ok",
     "timestamp": 1617060549259,
     "user": {
      "displayName": "Tejaswin Parthasarathy",
      "photoUrl": "",
      "userId": "09598575916527773543"
     },
     "user_tz": 300
    },
    "id": "TKw7BEDBPOzc",
    "outputId": "25d34a85-7eea-4e9b-9fdd-519f62a6237e",
    "tags": [
     "noshow"
    ]
   },
   "outputs": [],
   "source": [
    "plot_losses(train_losses, val_losses, test_frequency, num_epochs)\n",
    "plot_mAP(train_mAPs, val_mAPs, test_frequency, num_epochs)"
   ]
  },
  {
   "cell_type": "code",
   "execution_count": null,
   "metadata": {
    "colab": {
     "base_uri": "https://localhost:8080/"
    },
    "executionInfo": {
     "elapsed": 41064,
     "status": "ok",
     "timestamp": 1617060596091,
     "user": {
      "displayName": "Tejaswin Parthasarathy",
      "photoUrl": "",
      "userId": "09598575916527773543"
     },
     "user_tz": 300
    },
    "id": "O8Y7N_GMPQgr",
    "outputId": "12c659cc-5160-4e08-d494-8caf15c7e3cc",
    "tags": [
     "noshow"
    ]
   },
   "outputs": [],
   "source": [
    "mAP_test, test_loss, test_aps = test_classifier(test_loader, classifier, criterion)\n",
    "print(mAP_test)"
   ]
  },
  {
   "cell_type": "markdown",
   "metadata": {},
   "source": [
    "Finally, we pick the best model among all (v4) and report it in Kaggle."
   ]
  }
 ],
 "metadata": {
  "accelerator": "GPU",
  "authors": [
   {
    "name": "Tejaswin Parthasarathy"
   }
  ],
  "celltoolbar": "Edit Metadata",
  "colab": {
   "collapsed_sections": [],
   "name": "MP3_P1B_Develop_Classifier.ipynb",
   "provenance": []
  },
  "kernelspec": {
   "display_name": "Python 3",
   "language": "python",
   "name": "python3"
  },
  "language_info": {
   "codemirror_mode": {
    "name": "ipython",
    "version": 3
   },
   "file_extension": ".py",
   "mimetype": "text/x-python",
   "name": "python",
   "nbconvert_exporter": "python",
   "pygments_lexer": "ipython3",
   "version": "3.9.1"
  }
 },
 "nbformat": 4,
 "nbformat_minor": 1
}
