{
 "cells": [
  {
   "cell_type": "code",
   "execution_count": null,
   "metadata": {
    "colab": {
     "base_uri": "https://localhost:8080/"
    },
    "executionInfo": {
     "elapsed": 23168,
     "status": "ok",
     "timestamp": 1617419758092,
     "user": {
      "displayName": "Tejaswin Parthasarathy",
      "photoUrl": "",
      "userId": "09598575916527773543"
     },
     "user_tz": 300
    },
    "id": "lqpvB1OeHDYM",
    "outputId": "c2afac54-9906-4cd2-8560-215418bbc598"
   },
   "outputs": [],
   "source": [
    "from google.colab import drive\n",
    "drive.mount(\"/content/gdrive\")"
   ]
  },
  {
   "cell_type": "code",
   "execution_count": null,
   "metadata": {
    "colab": {
     "base_uri": "https://localhost:8080/"
    },
    "executionInfo": {
     "elapsed": 398,
     "status": "ok",
     "timestamp": 1617419764589,
     "user": {
      "displayName": "Tejaswin Parthasarathy",
      "photoUrl": "",
      "userId": "09598575916527773543"
     },
     "user_tz": 300
    },
    "id": "YXqixy38HFuv",
    "outputId": "3ddff7b8-7122-46be-95e2-ac3978492fe7"
   },
   "outputs": [],
   "source": [
    "import os\n",
    "HOME_DIR = os.getcwd()\n",
    "PWD = os.path.join(HOME_DIR, 'gdrive', 'MyDrive', 'Colab Notebooks', 'CS498', 'assignment3_part2')\n",
    "print(PWD)\n",
    "os.chdir(PWD)"
   ]
  },
  {
   "cell_type": "code",
   "execution_count": null,
   "metadata": {
    "executionInfo": {
     "elapsed": 6852,
     "status": "ok",
     "timestamp": 1617419773151,
     "user": {
      "displayName": "Tejaswin Parthasarathy",
      "photoUrl": "",
      "userId": "09598575916527773543"
     },
     "user_tz": 300
    },
    "id": "NS9fxQVyHBMS"
   },
   "outputs": [],
   "source": [
    "import os\n",
    "import random\n",
    "\n",
    "import cv2\n",
    "import numpy as np\n",
    "\n",
    "import torch\n",
    "from torch.utils.data import DataLoader\n",
    "from torchvision import models\n",
    "\n",
    "from src.resnet_yolo import resnet50\n",
    "# from yolo_loss import YoloLoss\n",
    "from src.dataset import VocDetectorDataset\n",
    "from src.eval_voc import evaluate\n",
    "from src.predict import predict_image\n",
    "from src.config import VOC_CLASSES, COLORS\n",
    "from kaggle_submission import output_submission_csv\n",
    "\n",
    "import matplotlib.pyplot as plt\n",
    "import collections\n",
    "\n",
    "%matplotlib inline\n",
    "%load_ext autoreload\n",
    "%autoreload 1\n",
    "\n",
    "%aimport yolo_loss"
   ]
  },
  {
   "cell_type": "code",
   "execution_count": null,
   "metadata": {
    "id": "HCNApE8mHjRq"
   },
   "outputs": [],
   "source": [
    "# !chmod u+rwx download_data.sh\n",
    "# !./download_data.sh\n",
    "# !wget http://host.robots.ox.ac.uk/pascal/VOC/voc2007/VOCtrainval_06-Nov-2007.tar\n",
    "# !wget http://host.robots.ox.ac.uk/pascal/VOC/voc2007/VOCtest_06-Nov-2007.tar"
   ]
  },
  {
   "cell_type": "code",
   "execution_count": null,
   "metadata": {
    "id": "8iCYux7hXgDS"
   },
   "outputs": [],
   "source": [
    "#!cat download_data.sh"
   ]
  },
  {
   "cell_type": "code",
   "execution_count": null,
   "metadata": {
    "colab": {
     "base_uri": "https://localhost:8080/"
    },
    "executionInfo": {
     "elapsed": 595,
     "status": "ok",
     "timestamp": 1617194124788,
     "user": {
      "displayName": "Tejaswin Parthasarathy",
      "photoUrl": "",
      "userId": "09598575916527773543"
     },
     "user_tz": 300
    },
    "id": "gGM2CuquHtQy",
    "outputId": "5794b16b-84a5-4661-f289-72a928114cc5"
   },
   "outputs": [],
   "source": [
    "import shutil\n",
    "\n",
    "# This one works but takes infinite time!\n",
    "# shutil.copytree(\"data\", \"/content/data\")\n",
    "\n",
    "###### shutil.rmtree(\"/content/data/VOCdevkit_2007\")\n",
    "\n",
    "os.makedirs(\"/content/data\", exist_ok = True)\n",
    "\n",
    "if os.listdir(\"/content/data\"):\n",
    "  pass\n",
    "else:\n",
    "  shutil.copyfile(\"VOCtrainval_06-Nov-2007.tar\", \"/content/data/VOCtrainval_06-Nov-2007.tar\")\n",
    "  !tar -xf \"/content/data/VOCtrainval_06-Nov-2007.tar\" -C \"/content/data/\" \n",
    "  shutil.move(\"/content/data/VOCdevkit\", \"/content/data/VOCdevkit_2007\")\n",
    "\n",
    "  shutil.copyfile(\"VOCtest_06-Nov-2007.tar\", \"/content/data/VOCtest_06-Nov-2007.tar\")\n",
    "  !tar -xf \"/content/data/VOCtest_06-Nov-2007.tar\" -C \"/content/data/\" \n",
    "  shutil.move(\"/content/data/VOCdevkit/VOC2007\", \"/content/data/VOCdevkit_2007/VOC2007test\")\n",
    "\n",
    "os.listdir(\"/content/data\")"
   ]
  },
  {
   "cell_type": "markdown",
   "metadata": {
    "id": "3ZZ8MjLbHBMT"
   },
   "source": [
    "## Initialization"
   ]
  },
  {
   "cell_type": "code",
   "execution_count": null,
   "metadata": {
    "colab": {
     "base_uri": "https://localhost:8080/"
    },
    "executionInfo": {
     "elapsed": 206,
     "status": "ok",
     "timestamp": 1617419928771,
     "user": {
      "displayName": "Tejaswin Parthasarathy",
      "photoUrl": "",
      "userId": "09598575916527773543"
     },
     "user_tz": 300
    },
    "id": "AWEhuuKYHBMU",
    "outputId": "22e88026-2f15-4b5c-83f1-cef5bb49088c"
   },
   "outputs": [],
   "source": [
    "device = torch.device(\"cuda:0\" if torch.cuda.is_available() else \"cpu\")\n",
    "device"
   ]
  },
  {
   "cell_type": "code",
   "execution_count": null,
   "metadata": {
    "executionInfo": {
     "elapsed": 365,
     "status": "ok",
     "timestamp": 1617419932925,
     "user": {
      "displayName": "Tejaswin Parthasarathy",
      "photoUrl": "",
      "userId": "09598575916527773543"
     },
     "user_tz": 300
    },
    "id": "mnKLVuQBHBMU"
   },
   "outputs": [],
   "source": [
    "# YOLO network hyperparameters\n",
    "B = 2  # number of bounding box predictions per cell\n",
    "S = 14  # width/height of network output grid (larger than 7x7 from paper since we use a different network)"
   ]
  },
  {
   "cell_type": "markdown",
   "metadata": {
    "id": "JGZVLy2BHBMU"
   },
   "source": [
    "To implement Yolo we will rely on a pretrained classifier as the backbone for our detection network. PyTorch offers a variety of models which are pretrained on ImageNet in the [`torchvision.models`](https://pytorch.org/docs/stable/torchvision/models.html) package. In particular, we will use the ResNet50 architecture as a base for our detector. This is different from the base architecture in the Yolo paper and also results in a different output grid size (14x14 instead of 7x7).\n",
    "\n",
    "Models are typically pretrained on ImageNet since the dataset is very large (> 1 million images) and widely used. The pretrained model provides a very useful weight initialization for our detector, so that the network is able to learn quickly and effectively."
   ]
  },
  {
   "cell_type": "code",
   "execution_count": null,
   "metadata": {
    "colab": {
     "base_uri": "https://localhost:8080/",
     "height": 100,
     "referenced_widgets": [
      "ca72eecb75464baa91fbeea02a885e69",
      "26f78d47596048d7979ff624d19aba91",
      "aa2b70429d184fe9a8b0c957cd01eccd",
      "d8f25a9e339949afb4e1d92a1e1d6818",
      "487580df680d4696803b73b690931b3a",
      "c48791522db14fa490865df2fe8f12c3",
      "4de682d758024ffd936fde702fe42dcd",
      "4a7bbc93fcf54d1da3c4ce62023c5d0d"
     ]
    },
    "executionInfo": {
     "elapsed": 17154,
     "status": "ok",
     "timestamp": 1617194155607,
     "user": {
      "displayName": "Tejaswin Parthasarathy",
      "photoUrl": "",
      "userId": "09598575916527773543"
     },
     "user_tz": 300
    },
    "id": "DSgbfssKHBMV",
    "outputId": "73eaaaf7-bf15-4474-f6f9-d02327ddcc58"
   },
   "outputs": [],
   "source": [
    "load_network_path = None #'checkpoints/best_detector.pth' \n",
    "pretrained = True\n",
    "\n",
    "# use to load a previously trained network\n",
    "if load_network_path is not None:\n",
    "    print('Loading saved network from {}'.format(load_network_path))\n",
    "    net = resnet50().to(device)\n",
    "    net.load_state_dict(torch.load(load_network_path))\n",
    "else:\n",
    "    print('Load pre-trained model')\n",
    "    net = resnet50(pretrained=pretrained).to(device)"
   ]
  },
  {
   "cell_type": "code",
   "execution_count": null,
   "metadata": {
    "id": "K00ST6cDHBMV"
   },
   "outputs": [],
   "source": [
    "learning_rate = 0.001\n",
    "num_epochs = 50\n",
    "batch_size = 24\n",
    "\n",
    "# Yolo loss component coefficients (as given in Yolo v1 paper)\n",
    "lambda_coord = 5\n",
    "lambda_noobj = 0.5"
   ]
  },
  {
   "cell_type": "markdown",
   "metadata": {
    "id": "nTQQrOcrHBMV"
   },
   "source": [
    "## Reading Pascal Data"
   ]
  },
  {
   "cell_type": "markdown",
   "metadata": {
    "id": "lBn_EaBSHBMW"
   },
   "source": [
    "Since Pascal is a small dataset (5000 in train+val) we have combined the train and val splits to train our detector. This is not typically a good practice, but we will make an exception in this case to be able to get reasonable detection results with a comparatively small object detection dataset.\n",
    "\n",
    "The train dataset loader also using a variety of data augmentation techniques including random shift, scaling, crop, and flips. Data augmentation is slightly more complicated for detection datasets since the bounding box annotations must be kept consistent throughout the transformations.\n",
    "\n",
    "Since the output of the detector network we train is an SxSx(B*5+C), we use an encoder to convert the original bounding box coordinates into relative grid bounding box coordinates corresponding to the expected output. We also use a decoder which allows us to convert the opposite direction into image coordinate bounding boxes."
   ]
  },
  {
   "cell_type": "code",
   "execution_count": null,
   "metadata": {
    "colab": {
     "base_uri": "https://localhost:8080/"
    },
    "executionInfo": {
     "elapsed": 933,
     "status": "ok",
     "timestamp": 1617194162888,
     "user": {
      "displayName": "Tejaswin Parthasarathy",
      "photoUrl": "",
      "userId": "09598575916527773543"
     },
     "user_tz": 300
    },
    "id": "YTiDj2MKHBMW",
    "outputId": "6214e110-1172-422a-8bb5-21c00a438ab1"
   },
   "outputs": [],
   "source": [
    "file_root_train = '/content/data/VOCdevkit_2007/VOC2007/JPEGImages/'\n",
    "# can't seem to get it on drive\n",
    "annotation_file_train = os.path.join(PWD, 'data', 'voc2007.txt')\n",
    "\n",
    "train_dataset = VocDetectorDataset(root_img_dir=file_root_train,dataset_file=annotation_file_train,train=True, S=S)\n",
    "train_loader = DataLoader(train_dataset,batch_size=batch_size,shuffle=True,num_workers=2)\n",
    "print('Loaded %d train images' % len(train_dataset))"
   ]
  },
  {
   "cell_type": "code",
   "execution_count": null,
   "metadata": {
    "colab": {
     "base_uri": "https://localhost:8080/"
    },
    "executionInfo": {
     "elapsed": 1010,
     "status": "ok",
     "timestamp": 1617194165090,
     "user": {
      "displayName": "Tejaswin Parthasarathy",
      "photoUrl": "",
      "userId": "09598575916527773543"
     },
     "user_tz": 300
    },
    "id": "REasE7jrHBMW",
    "outputId": "78687a48-fdb3-4a3b-b69d-6b7b305709ea"
   },
   "outputs": [],
   "source": [
    "file_root_test = '/content/data/VOCdevkit_2007/VOC2007test/JPEGImages/'\n",
    "\n",
    "# can't seem to get it on drive\n",
    "annotation_file_test = os.path.join(PWD, 'data', 'voc2007test.txt')\n",
    "# annotation_file_test = '/content/data/voc2007test.txt'\n",
    "\n",
    "test_dataset = VocDetectorDataset(root_img_dir=file_root_test,dataset_file=annotation_file_test,train=False, S=S)\n",
    "test_loader = DataLoader(test_dataset,batch_size=batch_size,shuffle=False,num_workers=2)\n",
    "print('Loaded %d test images' % len(test_dataset))"
   ]
  },
  {
   "cell_type": "code",
   "execution_count": null,
   "metadata": {
    "id": "wWuQYkCDHBMX"
   },
   "outputs": [],
   "source": [
    "data = train_dataset[0]"
   ]
  },
  {
   "cell_type": "markdown",
   "metadata": {
    "id": "ISBbUBeYHBMX"
   },
   "source": [
    "## Set up training tools"
   ]
  },
  {
   "cell_type": "code",
   "execution_count": null,
   "metadata": {
    "id": "bxOQJDgoHBMX"
   },
   "outputs": [],
   "source": [
    "from yolo_loss import YoloLoss\n",
    "\n",
    "criterion = YoloLoss(S, B, lambda_coord, lambda_noobj)\n",
    "optimizer = torch.optim.SGD(net.parameters(), lr=learning_rate, momentum=0.9, weight_decay=5e-4)"
   ]
  },
  {
   "cell_type": "markdown",
   "metadata": {
    "id": "69B98mclHBMX"
   },
   "source": [
    "## Train detector"
   ]
  },
  {
   "cell_type": "code",
   "execution_count": null,
   "metadata": {
    "colab": {
     "base_uri": "https://localhost:8080/"
    },
    "executionInfo": {
     "elapsed": 5850120,
     "status": "ok",
     "timestamp": 1617203744002,
     "user": {
      "displayName": "Tejaswin Parthasarathy",
      "photoUrl": "",
      "userId": "09598575916527773543"
     },
     "user_tz": 300
    },
    "id": "bCBftT1eHBMX",
    "outputId": "ca99e3ae-340f-4fc6-b321-eedb26c1f5fa"
   },
   "outputs": [],
   "source": [
    "best_test_loss = np.inf\n",
    "learning_rate = 1e-3\n",
    "for epoch in range(num_epochs):\n",
    "    net.train()\n",
    "    \n",
    "    # Update learning rate late in training\n",
    "    if epoch == 30 or epoch == 40:\n",
    "        learning_rate /= 10.0\n",
    "\n",
    "    for param_group in optimizer.param_groups:\n",
    "        param_group['lr'] = learning_rate\n",
    "    \n",
    "    print('\\n\\nStarting epoch %d / %d' % (epoch + 1, num_epochs))\n",
    "    print('Learning Rate for this epoch: {}'.format(learning_rate))\n",
    "    \n",
    "    total_loss = collections.defaultdict(int)\n",
    "    \n",
    "    for i, data in enumerate(train_loader):\n",
    "        data = (item.to(device) for item in data)\n",
    "        images, target_boxes, target_cls, has_object_map = data\n",
    "        pred = net(images)\n",
    "        loss_dict = criterion(pred, target_boxes, target_cls, has_object_map)\n",
    "        for key in loss_dict:\n",
    "            total_loss[key] += loss_dict[key].item()\n",
    "        \n",
    "        optimizer.zero_grad()\n",
    "        loss_dict['total_loss'].backward()\n",
    "        optimizer.step()\n",
    "        \n",
    "        if (i+1) % 50 == 0:\n",
    "            outstring = 'Epoch [%d/%d], Iter [%d/%d], Loss: ' % ((epoch+1, num_epochs, i+1, len(train_loader)))\n",
    "            outstring += ', '.join( \"%s=%.3f\" % (key[:-5], val / (i+1)) for key, val in total_loss.items() )\n",
    "            print(outstring)\n",
    "    \n",
    "    # evaluate the network on the test data\n",
    "    if (epoch + 1) % 5 == 0:\n",
    "        test_aps = evaluate(net, test_dataset_file=annotation_file_test, img_root=file_root_test)\n",
    "        print(epoch, test_aps)\n",
    "    with torch.no_grad():\n",
    "        test_loss = 0.0\n",
    "        net.eval()\n",
    "        for i, data in enumerate(test_loader):\n",
    "            data = (item.to(device) for item in data)\n",
    "            images, target_boxes, target_cls, has_object_map = data\n",
    "            \n",
    "            pred = net(images)\n",
    "            loss_dict = criterion(pred, target_boxes, target_cls, has_object_map)\n",
    "            test_loss += loss_dict['total_loss'].item()\n",
    "        test_loss /= len(test_loader)\n",
    "    \n",
    "    if best_test_loss > test_loss:\n",
    "        best_test_loss = test_loss\n",
    "        print('Updating best test loss: %.5f' % best_test_loss)\n",
    "        torch.save(net.state_dict(),'checkpoints/best_detector.pth')\n",
    "    \n",
    "    if (epoch+1) in [5, 10, 20, 30, 40]:\n",
    "        torch.save(net.state_dict(),'checkpoints/detector_epoch_%d.pth' % (epoch+1))\n",
    "\n",
    "    torch.save(net.state_dict(),'checkpoints/detector.pth')\n",
    "    \n"
   ]
  },
  {
   "cell_type": "markdown",
   "metadata": {
    "id": "EIl1eKBmHBMY"
   },
   "source": [
    "# View example predictions"
   ]
  },
  {
   "cell_type": "code",
   "execution_count": null,
   "metadata": {
    "colab": {
     "base_uri": "https://localhost:8080/",
     "height": 641
    },
    "executionInfo": {
     "elapsed": 3399,
     "status": "ok",
     "timestamp": 1617203887993,
     "user": {
      "displayName": "Tejaswin Parthasarathy",
      "photoUrl": "",
      "userId": "09598575916527773543"
     },
     "user_tz": 300
    },
    "id": "Qj8YO0XMHBMY",
    "outputId": "eaca3d5d-ad04-472c-9f54-7015728910aa"
   },
   "outputs": [],
   "source": [
    "net.eval()\n",
    "\n",
    "# select random image from test set\n",
    "image_name = random.choice(test_dataset.fnames)\n",
    "image = cv2.imread(os.path.join(file_root_test, image_name))\n",
    "image = cv2.cvtColor(image, cv2.COLOR_BGR2RGB)\n",
    "\n",
    "print('predicting...')\n",
    "result = predict_image(net, image_name, root_img_directory=file_root_test)\n",
    "for left_up, right_bottom, class_name, _, prob in result:\n",
    "    color = COLORS[VOC_CLASSES.index(class_name)]\n",
    "    cv2.rectangle(image, left_up, right_bottom, color, 2)\n",
    "    label = class_name + str(round(prob, 2))\n",
    "    text_size, baseline = cv2.getTextSize(label, cv2.FONT_HERSHEY_SIMPLEX, 0.4, 1)\n",
    "    p1 = (left_up[0], left_up[1] - text_size[1])\n",
    "    cv2.rectangle(image, (p1[0] - 2 // 2, p1[1] - 2 - baseline), (p1[0] + text_size[0], p1[1] + text_size[1]),\n",
    "                  color, -1)\n",
    "    cv2.putText(image, label, (p1[0], p1[1] + baseline), cv2.FONT_HERSHEY_SIMPLEX, 0.4, (255, 255, 255), 1, 8)\n",
    "\n",
    "plt.figure(figsize = (15,15))\n",
    "plt.imshow(image)\n"
   ]
  },
  {
   "cell_type": "code",
   "execution_count": null,
   "metadata": {
    "colab": {
     "base_uri": "https://localhost:8080/",
     "height": 1000,
     "output_embedded_package_id": "1SbsaLF2DLq6cMK6Fx8GPn9Gd9jv8r62d"
    },
    "executionInfo": {
     "elapsed": 28113,
     "status": "ok",
     "timestamp": 1617208563576,
     "user": {
      "displayName": "Tejaswin Parthasarathy",
      "photoUrl": "",
      "userId": "09598575916527773543"
     },
     "user_tz": 300
    },
    "id": "_Wwdr5RnGqPG",
    "outputId": "d93568cf-a6a4-49be-aed7-effe75007476"
   },
   "outputs": [],
   "source": [
    "def view_example_predictions(n_predictions, network):\n",
    "    network.eval()\n",
    "\n",
    "    global test_dataset, file_root_test\n",
    "\n",
    "    predictions_folder = os.path.join(os.getcwd(), \"predicted_images\")\n",
    "    os.makedirs(predictions_folder, exist_ok=True)\n",
    "\n",
    "    for i_p in range(n_predictions):\n",
    "        # select random image from test set\n",
    "        image_name = random.choice(test_dataset.fnames)\n",
    "        image = cv2.imread(os.path.join(file_root_test, image_name))\n",
    "        image = cv2.cvtColor(image, cv2.COLOR_BGR2RGB)\n",
    "\n",
    "        print('predicting...')\n",
    "        result = predict_image(network, image_name, root_img_directory=file_root_test)\n",
    "        for left_up, right_bottom, class_name, _, prob in result:\n",
    "            color = COLORS[VOC_CLASSES.index(class_name)]\n",
    "            cv2.rectangle(image, left_up, right_bottom, color, 2)\n",
    "            label = class_name + str(round(prob, 2))\n",
    "            text_size, baseline = cv2.getTextSize(label, cv2.FONT_HERSHEY_SIMPLEX, 0.4, 1)\n",
    "            p1 = (left_up[0], left_up[1] - text_size[1])\n",
    "            cv2.rectangle(image, (p1[0] - 2 // 2, p1[1] - 2 - baseline), (p1[0] + text_size[0], p1[1] + text_size[1]),\n",
    "                          color, -1)\n",
    "            cv2.putText(image, label, (p1[0], p1[1] + baseline), cv2.FONT_HERSHEY_SIMPLEX, 0.4, (255, 255, 255), 1, 8)\n",
    "\n",
    "        plt.figure(figsize = (15,15))\n",
    "        plt.imshow(image)\n",
    "        plt.savefig(os.path.join(predictions_folder, \"prediction_{:04d}.pdf\").format(i_p))\n",
    "\n",
    "view_example_predictions(10, net)"
   ]
  },
  {
   "cell_type": "markdown",
   "metadata": {
    "collapsed": true,
    "id": "d4qL6a60HBMZ"
   },
   "source": [
    "## Evaluate on Test\n",
    "\n",
    "To evaluate detection results we use mAP (mean of average precision over each class)"
   ]
  },
  {
   "cell_type": "code",
   "execution_count": null,
   "metadata": {
    "colab": {
     "base_uri": "https://localhost:8080/"
    },
    "executionInfo": {
     "elapsed": 129619,
     "status": "ok",
     "timestamp": 1617204036599,
     "user": {
      "displayName": "Tejaswin Parthasarathy",
      "photoUrl": "",
      "userId": "09598575916527773543"
     },
     "user_tz": 300
    },
    "id": "BUocVNzuHBMZ",
    "outputId": "d0216100-33ee-4b56-cf79-74d4382bd122"
   },
   "outputs": [],
   "source": [
    "test_aps = evaluate(net, test_dataset_file=annotation_file_test, img_root=file_root_test)"
   ]
  },
  {
   "cell_type": "markdown",
   "metadata": {
    "id": "inr_yl69HBMZ"
   },
   "source": [
    "### Cell added to get intermediate mAP values for students"
   ]
  },
  {
   "cell_type": "code",
   "execution_count": null,
   "metadata": {
    "colab": {
     "base_uri": "https://localhost:8080/",
     "height": 1000
    },
    "executionInfo": {
     "elapsed": 635256,
     "status": "error",
     "timestamp": 1617205101841,
     "user": {
      "displayName": "Tejaswin Parthasarathy",
      "photoUrl": "",
      "userId": "09598575916527773543"
     },
     "user_tz": 300
    },
    "id": "W04HNr5cHBMZ",
    "outputId": "d1ac0b2c-ad60-47e9-dd83-1650e16f18e0"
   },
   "outputs": [],
   "source": [
    "network_paths = ['checkpoints/detector_epoch_%d.pth' % epoch for epoch in [5, 10, 20, 30, 40]]+['checkpoints/detector.pth']\n",
    "for load_network_path in network_paths:\n",
    "    print('Loading saved network from {}'.format(load_network_path))\n",
    "    net_loaded =  resnet50().to(device)\n",
    "    net_loaded.load_state_dict(torch.load(load_network_path))\n",
    "    evaluate(net_loaded, test_dataset_file=annotation_file_test, img_root=file_root_test)\n"
   ]
  },
  {
   "cell_type": "code",
   "execution_count": null,
   "metadata": {
    "id": "2UQiwo63HBMZ"
   },
   "outputs": [],
   "source": [
    "output_submission_csv('my_new_solution.csv', test_aps)"
   ]
  },
  {
   "cell_type": "markdown",
   "metadata": {
    "id": "hVza0hTYskjg"
   },
   "source": [
    "## YOLO on YOLO\n",
    "\n",
    "We pass in three images from the YOLO video, into our network, after suitably resizing it."
   ]
  },
  {
   "cell_type": "code",
   "execution_count": null,
   "metadata": {
    "colab": {
     "base_uri": "https://localhost:8080/"
    },
    "executionInfo": {
     "elapsed": 14983,
     "status": "ok",
     "timestamp": 1617419956368,
     "user": {
      "displayName": "Tejaswin Parthasarathy",
      "photoUrl": "",
      "userId": "09598575916527773543"
     },
     "user_tz": 300
    },
    "id": "_J-uzXKFvIU_",
    "outputId": "78576b7c-f17d-4e8a-9752-cf7ffcf23821"
   },
   "outputs": [],
   "source": [
    "yolo_load_network_path = os.path.join(os.getcwd(), 'checkpoints/best_detector.pth') \n",
    "\n",
    "# use to load a previously trained network\n",
    "print('Loading saved network from {}'.format(yolo_load_network_path))\n",
    "net = resnet50().to(device)\n",
    "net.load_state_dict(torch.load(yolo_load_network_path))"
   ]
  },
  {
   "cell_type": "code",
   "execution_count": null,
   "metadata": {
    "colab": {
     "base_uri": "https://localhost:8080/",
     "height": 1000
    },
    "executionInfo": {
     "elapsed": 9295,
     "status": "ok",
     "timestamp": 1617420682235,
     "user": {
      "displayName": "Tejaswin Parthasarathy",
      "photoUrl": "",
      "userId": "09598575916527773543"
     },
     "user_tz": 300
    },
    "id": "Occ5nm5CtTzu",
    "outputId": "3778ac05-c297-4195-d89e-bbfcc0158f44"
   },
   "outputs": [],
   "source": [
    "def view_yolo_predictions(network):\n",
    "    network.eval()\n",
    "\n",
    "    predictions_folder = os.path.join(os.getcwd(), \"predicted_images\")\n",
    "    os.makedirs(predictions_folder, exist_ok=True)\n",
    "\n",
    "    # select random image from test set\n",
    "    for yolo_name in [\"yolo_1\", \"yolo_3\", \"yolo_dog\"]:\n",
    "      image_name = os.path.join(\"yolo_screenshot\", yolo_name + \".png\")\n",
    "      image = cv2.imread(os.path.join(os.getcwd(), image_name))\n",
    "      image = cv2.cvtColor(image, cv2.COLOR_BGR2RGB)\n",
    "\n",
    "      print('predicting...')\n",
    "      result = predict_image(network, image_name)\n",
    "      for left_up, right_bottom, class_name, _, prob in result:\n",
    "          color = COLORS[VOC_CLASSES.index(class_name)]\n",
    "          cv2.rectangle(image, left_up, right_bottom, color, 2)\n",
    "          label = class_name + str(round(prob, 2))\n",
    "          text_size, baseline = cv2.getTextSize(label, cv2.FONT_HERSHEY_SIMPLEX, 0.4, 1)\n",
    "          p1 = (left_up[0], left_up[1] - text_size[1])\n",
    "          cv2.rectangle(image, (p1[0] - 2 // 2, p1[1] - 2 - baseline), (p1[0] + text_size[0], p1[1] + text_size[1]),\n",
    "                        color, -1)\n",
    "          cv2.putText(image, label, (p1[0], p1[1] + baseline), cv2.FONT_HERSHEY_SIMPLEX, 0.4, (255, 255, 255), 1, 8)\n",
    "\n",
    "      plt.figure(figsize = (15,15))\n",
    "      plt.imshow(image)\n",
    "      plt.savefig(os.path.join(predictions_folder, \"prediction_for_{}.pdf\".format(yolo_name)))\n",
    "\n",
    "view_yolo_predictions(net)"
   ]
  }
 ],
 "metadata": {
  "accelerator": "GPU",
  "colab": {
   "collapsed_sections": [],
   "name": "MP3_P2.ipynb",
   "provenance": []
  },
  "kernelspec": {
   "display_name": "Python 3",
   "language": "python",
   "name": "python3"
  },
  "language_info": {
   "codemirror_mode": {
    "name": "ipython",
    "version": 3
   },
   "file_extension": ".py",
   "mimetype": "text/x-python",
   "name": "python",
   "nbconvert_exporter": "python",
   "pygments_lexer": "ipython3",
   "version": "3.7.3"
  },
  "widgets": {
   "application/vnd.jupyter.widget-state+json": {
    "26f78d47596048d7979ff624d19aba91": {
     "model_module": "@jupyter-widgets/base",
     "model_name": "LayoutModel",
     "state": {
      "_model_module": "@jupyter-widgets/base",
      "_model_module_version": "1.2.0",
      "_model_name": "LayoutModel",
      "_view_count": null,
      "_view_module": "@jupyter-widgets/base",
      "_view_module_version": "1.2.0",
      "_view_name": "LayoutView",
      "align_content": null,
      "align_items": null,
      "align_self": null,
      "border": null,
      "bottom": null,
      "display": null,
      "flex": null,
      "flex_flow": null,
      "grid_area": null,
      "grid_auto_columns": null,
      "grid_auto_flow": null,
      "grid_auto_rows": null,
      "grid_column": null,
      "grid_gap": null,
      "grid_row": null,
      "grid_template_areas": null,
      "grid_template_columns": null,
      "grid_template_rows": null,
      "height": null,
      "justify_content": null,
      "justify_items": null,
      "left": null,
      "margin": null,
      "max_height": null,
      "max_width": null,
      "min_height": null,
      "min_width": null,
      "object_fit": null,
      "object_position": null,
      "order": null,
      "overflow": null,
      "overflow_x": null,
      "overflow_y": null,
      "padding": null,
      "right": null,
      "top": null,
      "visibility": null,
      "width": null
     }
    },
    "487580df680d4696803b73b690931b3a": {
     "model_module": "@jupyter-widgets/controls",
     "model_name": "ProgressStyleModel",
     "state": {
      "_model_module": "@jupyter-widgets/controls",
      "_model_module_version": "1.5.0",
      "_model_name": "ProgressStyleModel",
      "_view_count": null,
      "_view_module": "@jupyter-widgets/base",
      "_view_module_version": "1.2.0",
      "_view_name": "StyleView",
      "bar_color": null,
      "description_width": "initial"
     }
    },
    "4a7bbc93fcf54d1da3c4ce62023c5d0d": {
     "model_module": "@jupyter-widgets/base",
     "model_name": "LayoutModel",
     "state": {
      "_model_module": "@jupyter-widgets/base",
      "_model_module_version": "1.2.0",
      "_model_name": "LayoutModel",
      "_view_count": null,
      "_view_module": "@jupyter-widgets/base",
      "_view_module_version": "1.2.0",
      "_view_name": "LayoutView",
      "align_content": null,
      "align_items": null,
      "align_self": null,
      "border": null,
      "bottom": null,
      "display": null,
      "flex": null,
      "flex_flow": null,
      "grid_area": null,
      "grid_auto_columns": null,
      "grid_auto_flow": null,
      "grid_auto_rows": null,
      "grid_column": null,
      "grid_gap": null,
      "grid_row": null,
      "grid_template_areas": null,
      "grid_template_columns": null,
      "grid_template_rows": null,
      "height": null,
      "justify_content": null,
      "justify_items": null,
      "left": null,
      "margin": null,
      "max_height": null,
      "max_width": null,
      "min_height": null,
      "min_width": null,
      "object_fit": null,
      "object_position": null,
      "order": null,
      "overflow": null,
      "overflow_x": null,
      "overflow_y": null,
      "padding": null,
      "right": null,
      "top": null,
      "visibility": null,
      "width": null
     }
    },
    "4de682d758024ffd936fde702fe42dcd": {
     "model_module": "@jupyter-widgets/controls",
     "model_name": "DescriptionStyleModel",
     "state": {
      "_model_module": "@jupyter-widgets/controls",
      "_model_module_version": "1.5.0",
      "_model_name": "DescriptionStyleModel",
      "_view_count": null,
      "_view_module": "@jupyter-widgets/base",
      "_view_module_version": "1.2.0",
      "_view_name": "StyleView",
      "description_width": ""
     }
    },
    "aa2b70429d184fe9a8b0c957cd01eccd": {
     "model_module": "@jupyter-widgets/controls",
     "model_name": "FloatProgressModel",
     "state": {
      "_dom_classes": [],
      "_model_module": "@jupyter-widgets/controls",
      "_model_module_version": "1.5.0",
      "_model_name": "FloatProgressModel",
      "_view_count": null,
      "_view_module": "@jupyter-widgets/controls",
      "_view_module_version": "1.5.0",
      "_view_name": "ProgressView",
      "bar_style": "success",
      "description": "100%",
      "description_tooltip": null,
      "layout": "IPY_MODEL_c48791522db14fa490865df2fe8f12c3",
      "max": 102502400,
      "min": 0,
      "orientation": "horizontal",
      "style": "IPY_MODEL_487580df680d4696803b73b690931b3a",
      "value": 102502400
     }
    },
    "c48791522db14fa490865df2fe8f12c3": {
     "model_module": "@jupyter-widgets/base",
     "model_name": "LayoutModel",
     "state": {
      "_model_module": "@jupyter-widgets/base",
      "_model_module_version": "1.2.0",
      "_model_name": "LayoutModel",
      "_view_count": null,
      "_view_module": "@jupyter-widgets/base",
      "_view_module_version": "1.2.0",
      "_view_name": "LayoutView",
      "align_content": null,
      "align_items": null,
      "align_self": null,
      "border": null,
      "bottom": null,
      "display": null,
      "flex": null,
      "flex_flow": null,
      "grid_area": null,
      "grid_auto_columns": null,
      "grid_auto_flow": null,
      "grid_auto_rows": null,
      "grid_column": null,
      "grid_gap": null,
      "grid_row": null,
      "grid_template_areas": null,
      "grid_template_columns": null,
      "grid_template_rows": null,
      "height": null,
      "justify_content": null,
      "justify_items": null,
      "left": null,
      "margin": null,
      "max_height": null,
      "max_width": null,
      "min_height": null,
      "min_width": null,
      "object_fit": null,
      "object_position": null,
      "order": null,
      "overflow": null,
      "overflow_x": null,
      "overflow_y": null,
      "padding": null,
      "right": null,
      "top": null,
      "visibility": null,
      "width": null
     }
    },
    "ca72eecb75464baa91fbeea02a885e69": {
     "model_module": "@jupyter-widgets/controls",
     "model_name": "HBoxModel",
     "state": {
      "_dom_classes": [],
      "_model_module": "@jupyter-widgets/controls",
      "_model_module_version": "1.5.0",
      "_model_name": "HBoxModel",
      "_view_count": null,
      "_view_module": "@jupyter-widgets/controls",
      "_view_module_version": "1.5.0",
      "_view_name": "HBoxView",
      "box_style": "",
      "children": [
       "IPY_MODEL_aa2b70429d184fe9a8b0c957cd01eccd",
       "IPY_MODEL_d8f25a9e339949afb4e1d92a1e1d6818"
      ],
      "layout": "IPY_MODEL_26f78d47596048d7979ff624d19aba91"
     }
    },
    "d8f25a9e339949afb4e1d92a1e1d6818": {
     "model_module": "@jupyter-widgets/controls",
     "model_name": "HTMLModel",
     "state": {
      "_dom_classes": [],
      "_model_module": "@jupyter-widgets/controls",
      "_model_module_version": "1.5.0",
      "_model_name": "HTMLModel",
      "_view_count": null,
      "_view_module": "@jupyter-widgets/controls",
      "_view_module_version": "1.5.0",
      "_view_name": "HTMLView",
      "description": "",
      "description_tooltip": null,
      "layout": "IPY_MODEL_4a7bbc93fcf54d1da3c4ce62023c5d0d",
      "placeholder": "​",
      "style": "IPY_MODEL_4de682d758024ffd936fde702fe42dcd",
      "value": " 97.8M/97.8M [00:04&lt;00:00, 21.4MB/s]"
     }
    }
   }
  }
 },
 "nbformat": 4,
 "nbformat_minor": 0
}
