{
 "cells": [
  {
   "cell_type": "code",
   "execution_count": null,
   "metadata": {
    "tags": [
     "noshow"
    ]
   },
   "outputs": [],
   "source": [
    "import random\n",
    "import numpy as np\n",
    "from data_process import get_CIFAR10_data, get_MUSHROOM_data\n",
    "from scipy.spatial import distance\n",
    "from models import Perceptron, SVM, Softmax, Logistic, softmax\n",
    "from kaggle_submission import output_submission_csv\n",
    "from matplotlib import pyplot as plt\n",
    "%matplotlib inline\n",
    "\n",
    "# custom\n",
    "try:\n",
    "    from tqdm.notebook import tqdm\n",
    "except ImportError:\n",
    "    def tqdm(x, **kwargs):\n",
    "        return x\n",
    "\n",
    "# For auto-reloading external modules\n",
    "# See http://stackoverflow.com/questions/1907993/autoreload-of-modules-in-ipython\n",
    "%load_ext autoreload\n",
    "%autoreload 2"
   ]
  },
  {
   "cell_type": "markdown",
   "metadata": {
    "tags": [
     "noshow"
    ]
   },
   "source": [
    "# Loading CIFAR-10"
   ]
  },
  {
   "cell_type": "markdown",
   "metadata": {
    "tags": [
     "noshow"
    ]
   },
   "source": [
    "In the following cells we determine the number of images for each split and load the images.\n",
    "<br /> \n",
    "TRAIN_IMAGES + VAL_IMAGES = (0, 50000]\n",
    ", TEST_IMAGES = 10000"
   ]
  },
  {
   "cell_type": "code",
   "execution_count": null,
   "metadata": {
    "tags": [
     "noshow"
    ]
   },
   "outputs": [],
   "source": [
    "# You can change these numbers for experimentation\n",
    "# For submission we will use the default values \n",
    "TRAIN_IMAGES = 40000\n",
    "VAL_IMAGES = 10000"
   ]
  },
  {
   "cell_type": "code",
   "execution_count": null,
   "metadata": {
    "tags": [
     "noshow"
    ]
   },
   "outputs": [],
   "source": [
    "data = get_CIFAR10_data(TRAIN_IMAGES, VAL_IMAGES)\n",
    "X_train_CIFAR, y_train_CIFAR = data['X_train'], data['y_train']\n",
    "X_val_CIFAR, y_val_CIFAR = data['X_val'], data['y_val']\n",
    "X_test_CIFAR, y_test_CIFAR = data['X_test'], data['y_test']\n",
    "n_class_CIFAR = len(np.unique(y_test_CIFAR))"
   ]
  },
  {
   "cell_type": "markdown",
   "metadata": {
    "tags": [
     "noshow"
    ]
   },
   "source": [
    "Convert the sets of images from dimensions of **(N, 3, 32, 32) -> (N, 3072)** where N is the number of images so that each **3x32x32** image is represented by a single vector."
   ]
  },
  {
   "cell_type": "code",
   "execution_count": null,
   "metadata": {
    "tags": [
     "noshow"
    ]
   },
   "outputs": [],
   "source": [
    "X_train_CIFAR = np.reshape(X_train_CIFAR, (X_train_CIFAR.shape[0], -1))\n",
    "X_val_CIFAR = np.reshape(X_val_CIFAR, (X_val_CIFAR.shape[0], -1))\n",
    "X_test_CIFAR = np.reshape(X_test_CIFAR, (X_test_CIFAR.shape[0], -1))"
   ]
  },
  {
   "cell_type": "markdown",
   "metadata": {
    "tags": [
     "noshow"
    ]
   },
   "source": [
    "# Loading Mushroom"
   ]
  },
  {
   "cell_type": "markdown",
   "metadata": {
    "tags": [
     "noshow"
    ]
   },
   "source": [
    "In the following cells we determine the splitting of the mushroom dataset.\n",
    "<br /> TRAINING + VALIDATION = 0.8, TESTING = 0.2"
   ]
  },
  {
   "cell_type": "code",
   "execution_count": null,
   "metadata": {
    "tags": [
     "noshow"
    ]
   },
   "outputs": [],
   "source": [
    "# TRAINING = 0.6 indicates 60% of the data is used as the training dataset.\n",
    "VALIDATION = 0.2"
   ]
  },
  {
   "cell_type": "code",
   "execution_count": null,
   "metadata": {
    "tags": [
     "noshow"
    ]
   },
   "outputs": [],
   "source": [
    "data = get_MUSHROOM_data(VALIDATION)\n",
    "X_train_MR, y_train_MR = data['X_train'], data['y_train']\n",
    "X_val_MR, y_val_MR = data['X_val'], data['y_val']\n",
    "X_test_MR, y_test_MR = data['X_test'], data['y_test']\n",
    "n_class_MR = len(np.unique(y_test_MR))\n",
    "\n",
    "print(\"Number of train samples: \", X_train_MR.shape[0])\n",
    "print(\"Number of val samples: \", X_val_MR.shape[0])\n",
    "print(\"Number of test samples: \", X_test_MR.shape[0])"
   ]
  },
  {
   "cell_type": "markdown",
   "metadata": {},
   "source": [
    "# Utilities\n",
    "## Get Accuracy\n",
    "This function computes how well your model performs using accuracy as a metric."
   ]
  },
  {
   "cell_type": "code",
   "execution_count": null,
   "metadata": {},
   "outputs": [],
   "source": [
    "def get_acc(pred, y_test):\n",
    "    return np.sum(y_test == pred) / len(y_test) * 100"
   ]
  },
  {
   "cell_type": "markdown",
   "metadata": {
    "tags": [
     "noshow"
    ]
   },
   "source": [
    "## Custom utilities\n",
    "Utility functions that are used below go here, they aren't displayed in the PDF but can be seen in the raw notebook."
   ]
  },
  {
   "cell_type": "code",
   "execution_count": null,
   "metadata": {
    "tags": [
     "noshow"
    ]
   },
   "outputs": [],
   "source": [
    "# customization\n",
    "from dataclasses import dataclass, field\n",
    "from typing import List, Callable\n",
    "from functools import partial\n",
    "\n",
    "generate_plots = True\n",
    "\n",
    "@dataclass\n",
    "class Stats:\n",
    "    '''Class for keeping track of an stats for a trained model.'''\n",
    "    training_accuracies : List[float] = field(default_factory=list)\n",
    "    validation_accuracies : List[float] = field(default_factory=list)\n",
    "    training_loss : List[float] = field(default_factory=list)\n",
    "    validation_loss : List[float] = field(default_factory=list)\n",
    "    L2_norm : List[float] = field(default_factory=list)\n",
    "\n",
    "def track_history_over_epochs(model, X_train, y_train, X_val, y_val, accuracy_metric):\n",
    "    stats = Stats()\n",
    "    \n",
    "    for _ in tqdm(model.train_one_epoch(X_train, y_train), total = model.epochs):\n",
    "        stats.L2_norm.append(np.sum(model.w * model.w) / y_train.shape[0])\n",
    "        \n",
    "        pred_model = model.predict(X_train)\n",
    "        stats.training_loss.append(np.sum(model.loss(X_train, y_train)))\n",
    "        stats.training_accuracies.append(accuracy_metric(pred_model, y_train))\n",
    "\n",
    "        pred_model = model.predict(X_val)\n",
    "        stats.validation_loss.append(np.sum(model.loss(X_val, y_val)))\n",
    "        stats.validation_accuracies.append(accuracy_metric(pred_model, y_val))\n",
    "\n",
    "    return stats\n",
    "\n",
    "class DecayFunctions:\n",
    "    start = 1.0 # 1 * lr\n",
    "    stop = 0.01 # 0.1 * lr\n",
    "    \n",
    "    # decay functions for the learning rate\n",
    "    @staticmethod\n",
    "    def constant(i_epoch : int, n_epochs : int, **kwargs) -> float:\n",
    "        return DecayFunctions.start\n",
    "\n",
    "    @staticmethod\n",
    "    def exponential(i_epoch : int, n_epochs : int, **kwargs) -> float:\n",
    "        # 1 at i_epoch = 0, some small value at i_epoch = n_epochs\n",
    "        # so that last iteration will also have some update\n",
    "        # return np.exp(-np.abs(kwargs['decay_rate']) * (i_epoch / n_epochs))\n",
    "\n",
    "        # so that at the last iteration the weight is the same as linear_decay\n",
    "        prefactor = np.log(DecayFunctions.start / DecayFunctions.stop)\n",
    "        return DecayFunctions.start * np.exp(-prefactor * i_epoch / (n_epochs - 1))\n",
    "\n",
    "    @staticmethod\n",
    "    def linear(i_epoch : int, n_epochs : int, **kwargs) -> float:\n",
    "        prefactor = (DecayFunctions.stop - DecayFunctions.start) / (n_epochs - 1)\n",
    "        return DecayFunctions.start + prefactor * i_epoch\n",
    "\n",
    "    @staticmethod\n",
    "    def cos(i_epoch : int, n_epochs : int, **kwargs) -> float:\n",
    "        stretch = np.pi * i_epoch / (n_epochs - 1)\n",
    "        additive = 0.5 * (DecayFunctions.start + DecayFunctions.stop)\n",
    "        prefactor = 0.5 * (DecayFunctions.start - DecayFunctions.stop)\n",
    "        return additive + prefactor * np.cos(stretch)\n",
    "    \n",
    "@dataclass\n",
    "class ModelParams:\n",
    "    '''Class for keeping track of model params.'''\n",
    "    lr : float = None\n",
    "    n_epochs : int = None\n",
    "    reg_const : float = None\n",
    "    # custom parameters\n",
    "    batch_size : int = 1\n",
    "    _decay : Callable[[int], float] = DecayFunctions.linear\n",
    "    \n",
    "    @property\n",
    "    def decay_function(self) -> float:\n",
    "        return partial(self._decay, n_epochs = self.n_epochs)\n",
    "\n",
    "def plot_stats(stats):\n",
    "    import plotly.graph_objects as go\n",
    "    from plotly.subplots import make_subplots\n",
    "    \n",
    "    # fig = go.Figure()\n",
    "    fig = make_subplots(rows=1, cols=3, subplot_titles=(\"Loss history\", \"Accuracy history\", \"L2 norm of weights\"))\n",
    "\n",
    "    # losses\n",
    "    fig.add_trace(go.Scatter(y=stats.training_loss,\n",
    "                        mode='lines+markers',\n",
    "                        name='training_loss'), row=1, col=1)\n",
    "    fig.add_trace(go.Scatter(y= stats.validation_loss,\n",
    "                        mode='lines+markers',\n",
    "                        name='validation_loss'), row=1, col=1)\n",
    "    # Update xaxis properties\n",
    "    fig.update_xaxes(title_text=\"epochs\", row=1, col=1)\n",
    "\n",
    "    # losses\n",
    "    fig.add_trace(go.Scatter(y = stats.training_accuracies,\n",
    "                        mode='lines+markers',\n",
    "                        name='training_accuracy'), row=1, col=2)\n",
    "    fig.add_trace(go.Scatter(y = stats.validation_accuracies,\n",
    "                        mode='lines+markers',\n",
    "                        name='validation_accuracy'), row=1, col=2)\n",
    "    # Update xaxis properties\n",
    "    fig.update_xaxes(title_text=\"epochs\", row=1, col=2)\n",
    "    \n",
    "    # l2 norm\n",
    "    fig.add_trace(go.Scatter(y=stats.L2_norm,\n",
    "                        mode='lines+markers', name=\"l2 norm\"), row=1, col=3)\n",
    "    fig.update_xaxes(title_text=\"epochs\", row=1, col=3)\n",
    "    \n",
    "    \n",
    "    return fig\n",
    "\n",
    "\"\"\"\n",
    "# look ma, no partial!\n",
    "def get_decay_function(cls_str : str, n_epochs : int):\n",
    "    # decay functions for the learning rate\n",
    "    def no_decay(i_epoch : int, **kwargs) -> float:\n",
    "        return 1.0\n",
    "\n",
    "    def exponential_decay(i_epoch : int, **kwargs) -> float:\n",
    "        # 1 at i_epoch = 0, some small value at i_epoch = n_epochs\n",
    "        # so that last iteration will also have some update\n",
    "        # return np.exp(-np.abs(kwargs['decay_rate']) * (i_epoch / n_epochs))\n",
    "\n",
    "        # so that at the last iteration the weight is the same as linear_decay\n",
    "        prefactor = n_epochs * np.log(n_epochs) / (n_epochs - 1)\n",
    "        return np.exp(-prefactor * (i_epoch / n_epochs))\n",
    "\n",
    "    def linear_decay(i_epoch : int, **kwargs) -> float:\n",
    "        return (n_epochs - i_epoch) / (n_epochs)\n",
    "\n",
    "    decays = {x.__name__ : x for x in (no_decay, exponential_decay, linear_decay)}\n",
    "    return decays[cls_str]\n",
    "\"\"\"\n",
    "\n",
    "@dataclass\n",
    "class Dataset:\n",
    "    '''Class for keeping track of model params.'''\n",
    "    X_train : np.ndarray = None\n",
    "    y_train : np.ndarray = None\n",
    "    X_val : np.ndarray = None\n",
    "    y_val : np.ndarray = None\n",
    "    X_test : np.ndarray = None\n",
    "    y_test : np.ndarray = None\n",
    "    n_class : int = None\n",
    "    \n",
    "CIFAR_dataset = Dataset(X_train_CIFAR, y_train_CIFAR, X_val_CIFAR, y_val_CIFAR, X_test_CIFAR, y_test_CIFAR, n_class_CIFAR)\n",
    "MR_dataset = Dataset(X_train_MR, y_train_MR, X_val_MR, y_val_MR, X_test_MR, y_test_MR, n_class_MR)\n",
    "\n",
    "def train(cls, using : ModelParams):\n",
    "    accuracy_metric = get_acc\n",
    "\n",
    "    class Gym:\n",
    "        def __init__(self):\n",
    "            self.model = None\n",
    "            self.params = using\n",
    "            self.statistics = None\n",
    "            self.data = None\n",
    "            \n",
    "        def over(self, data : Dataset):\n",
    "            # no copy, each model creates its own copy when training\n",
    "            self.data = data\n",
    "            \n",
    "            if self.params.reg_const:\n",
    "                self.model = cls(data.n_class, self.params.lr, self.params.n_epochs, self.params.reg_const, batch_size = self.params.batch_size, rate_decay = self.params.decay_function)\n",
    "            else:\n",
    "                self.model = cls(data.n_class, self.params.lr, self.params.n_epochs, batch_size = self.params.batch_size, rate_decay = self.params.decay_function)\n",
    "\n",
    "            self.statistics = track_history_over_epochs(self.model, data.X_train, data.y_train, data.X_val, data.y_val, accuracy_metric)\n",
    "            return self\n",
    "        \n",
    "        def and_report(self):\n",
    "            title_str = cls.__name__ + \" statistics\"\n",
    "            print('-' * len(title_str))\n",
    "            print(title_str)\n",
    "            print('-' * len(title_str))\n",
    "\n",
    "            prediction = self.model.predict(self.data.X_train)\n",
    "            print('The training accuracy after learning is given by: %f' % (accuracy_metric(prediction, self.data.y_train)))\n",
    "            \n",
    "            print('The validation accuracy after learning is given by: %f' % self.and_report_validation_accuracy())\n",
    "            print('The testing accuracy after learning is given by: %f' % self.and_report_test_accuracy())\n",
    "            \n",
    "            return self\n",
    "        \n",
    "        def and_plot(self):\n",
    "            fig = plot_stats(self.statistics)\n",
    "            fig.show(renderer=\"notebook+pdf\")\n",
    "            return self\n",
    "\n",
    "        def and_report_validation_accuracy(self):\n",
    "            prediction = self.model.predict(self.data.X_val)\n",
    "            return accuracy_metric(prediction, self.data.y_val)\n",
    "\n",
    "        def and_report_test_accuracy(self):\n",
    "            prediction = self.model.predict(self.data.X_test)\n",
    "            return accuracy_metric(prediction, self.data.y_test)\n",
    "\n",
    "        def get_underlying_model(self):\n",
    "            return self.model\n",
    "        \n",
    "    return Gym()"
   ]
  },
  {
   "cell_type": "markdown",
   "metadata": {},
   "source": [
    "# Perceptron"
   ]
  },
  {
   "cell_type": "markdown",
   "metadata": {
    "tags": [
     "noshow"
    ]
   },
   "source": [
    "Perceptron has 2 hyperparameters that you can experiment with:\n",
    "- **Learning rate** - controls how much we change the current weights of the classifier during each update. We set it at a default value of 0.5, but you should experiment with different values. We recommend changing the learning rate by factors of 10 and observing how the performance of the classifier changes. You should also try adding a **decay** which slowly reduces the learning rate over each epoch.\n",
    "- **Number of Epochs** - An epoch is a complete iterative pass over all of the data in the dataset. During an epoch we predict a label using the classifier and then update the weights of the classifier according to the perceptron update rule for each sample in the training set. You should try different values for the number of training epochs and report your results."
   ]
  },
  {
   "cell_type": "markdown",
   "metadata": {
    "tags": [
     "noshow"
    ]
   },
   "source": [
    "You will implement the Perceptron classifier in the **models/perceptron.py**\n",
    "\n",
    "The following code: \n",
    "- Creates an instance of the Perceptron classifier class \n",
    "- The train function of the Perceptron class is trained on the training data\n",
    "- We use the predict function to find the training accuracy as well as the testing accuracy\n"
   ]
  },
  {
   "cell_type": "markdown",
   "metadata": {},
   "source": [
    "## Train Perceptron on CIFAR"
   ]
  },
  {
   "cell_type": "code",
   "execution_count": null,
   "metadata": {},
   "outputs": [],
   "source": [
    "model = Perceptron\n",
    "params = ModelParams()\n",
    "params.lr = 2.0\n",
    "params.n_epochs = 5\n",
    "params.batch_size = 2000\n",
    "params._decay = DecayFunctions.linear \n",
    "\n",
    "trained_model = train(model, using = params).over(CIFAR_dataset).and_plot().and_report()"
   ]
  },
  {
   "cell_type": "code",
   "execution_count": null,
   "metadata": {
    "tags": [
     "noshow"
    ]
   },
   "outputs": [],
   "source": [
    "lr = 0.5\n",
    "n_epochs = 20\n",
    "# custom parameters\n",
    "batch_size = 500\n",
    "rate_decay = partial(DecayFunctions.linear, n_epochs = n_epochs)\n",
    "\n",
    "percept_CIFAR = Perceptron(n_class_CIFAR, lr, n_epochs, batch_size = batch_size, rate_decay = rate_decay)\n",
    "if generate_plots:\n",
    "    percept_CIFAR_stats = track_history_over_epochs(percept_CIFAR, X_train_CIFAR, y_train_CIFAR, X_val_CIFAR, y_val_CIFAR, accuracy_metric=get_acc)\n",
    "else:\n",
    "    percept_CIFAR.train(X_train_CIFAR, y_train_CIFAR)"
   ]
  },
  {
   "cell_type": "code",
   "execution_count": null,
   "metadata": {
    "tags": [
     "noshow"
    ]
   },
   "outputs": [],
   "source": [
    "if generate_plots:\n",
    "    fig = plot_stats(percept_CIFAR_stats)\n",
    "    fig.show()\n",
    "# fig = plt.figure()\n",
    "# plt.plot(percept_CIFAR_stats.training_accuracies)\n",
    "# plt.plot(percept_CIFAR_stats.validation_accuracies)\n",
    "# fig\n",
    "# percept_CIFAR.loss(X_train_CIFAR, y_train_CIFAR)"
   ]
  },
  {
   "cell_type": "code",
   "execution_count": null,
   "metadata": {
    "tags": [
     "noshow"
    ]
   },
   "outputs": [],
   "source": [
    "pred_percept = percept_CIFAR.predict(X_train_CIFAR)\n",
    "print('The training accuracy is given by: %f' % (get_acc(pred_percept, y_train_CIFAR)))"
   ]
  },
  {
   "cell_type": "markdown",
   "metadata": {
    "tags": [
     "noshow"
    ]
   },
   "source": [
    "### Validate Perceptron on CIFAR"
   ]
  },
  {
   "cell_type": "code",
   "execution_count": null,
   "metadata": {
    "tags": [
     "noshow"
    ]
   },
   "outputs": [],
   "source": [
    "pred_percept = percept_CIFAR.predict(X_val_CIFAR)\n",
    "print('The validation accuracy is given by: %f' % (get_acc(pred_percept, y_val_CIFAR)))"
   ]
  },
  {
   "cell_type": "markdown",
   "metadata": {
    "tags": [
     "noshow"
    ]
   },
   "source": [
    "### Test Perceptron on CIFAR"
   ]
  },
  {
   "cell_type": "code",
   "execution_count": null,
   "metadata": {
    "tags": [
     "noshow"
    ]
   },
   "outputs": [],
   "source": [
    "pred_percept = percept_CIFAR.predict(X_test_CIFAR)\n",
    "print('The testing accuracy is given by: %f' % (get_acc(pred_percept, y_test_CIFAR)))"
   ]
  },
  {
   "cell_type": "markdown",
   "metadata": {
    "tags": [
     "noshow"
    ]
   },
   "source": [
    "### Perceptron_CIFAR Kaggle Submission\n",
    "\n",
    "Once you are satisfied with your solution and test accuracy, output a file to submit your test set predictions to the Kaggle for Assignment 1 CIFAR. Use the following code to do so:"
   ]
  },
  {
   "cell_type": "code",
   "execution_count": null,
   "metadata": {
    "tags": [
     "noshow"
    ]
   },
   "outputs": [],
   "source": [
    "output_submission_csv('kaggle/perceptron_submission_CIFAR.csv', trained_model.get_underlying_model().predict(X_test_CIFAR))"
   ]
  },
  {
   "cell_type": "markdown",
   "metadata": {},
   "source": [
    "## Train Perceptron on Mushroom"
   ]
  },
  {
   "cell_type": "code",
   "execution_count": null,
   "metadata": {},
   "outputs": [],
   "source": [
    "model = Perceptron\n",
    "params = ModelParams()\n",
    "params.lr = 1.0\n",
    "params.n_epochs = 10\n",
    "params.batch_size = 10\n",
    "params._decay = DecayFunctions.linear \n",
    "\n",
    "trained_model = train(model, using = params).over(MR_dataset).and_plot().and_report()"
   ]
  },
  {
   "cell_type": "code",
   "execution_count": null,
   "metadata": {
    "tags": [
     "noshow"
    ]
   },
   "outputs": [],
   "source": [
    "lr = 0.5\n",
    "n_epochs = 10\n",
    "# custom parameters\n",
    "batch_size = 1\n",
    "rate_decay = partial(DecayFunctions.linear, n_epochs = n_epochs)\n",
    "\n",
    "percept_MR = Perceptron(n_class_MR, lr, n_epochs, batch_size = batch_size, rate_decay = rate_decay)\n",
    "if generate_plots:\n",
    "    percept_MR_stats = track_history_over_epochs(percept_MR, X_train_MR, y_train_MR, X_val_MR, y_val_MR)\n",
    "else:\n",
    "    percept_MR.train(X_train_MR, y_train_MR)"
   ]
  },
  {
   "cell_type": "code",
   "execution_count": null,
   "metadata": {
    "tags": [
     "noshow"
    ]
   },
   "outputs": [],
   "source": [
    "if generate_plots:\n",
    "    fig = plot_stats(percept_MR_stats)\n",
    "    fig.show()"
   ]
  },
  {
   "cell_type": "code",
   "execution_count": null,
   "metadata": {
    "tags": [
     "noshow"
    ]
   },
   "outputs": [],
   "source": [
    "pred_percept = percept_MR.predict(X_train_MR)\n",
    "print('The training accuracy is given by: %f' % (get_acc(pred_percept, y_train_MR)))"
   ]
  },
  {
   "cell_type": "markdown",
   "metadata": {
    "tags": [
     "noshow"
    ]
   },
   "source": [
    "### Validate Perceptron on Mushroom"
   ]
  },
  {
   "cell_type": "code",
   "execution_count": null,
   "metadata": {
    "tags": [
     "noshow"
    ]
   },
   "outputs": [],
   "source": [
    "pred_percept = percept_MR.predict(X_val_MR)\n",
    "print('The validation accuracy is given by: %f' % (get_acc(pred_percept, y_val_MR)))"
   ]
  },
  {
   "cell_type": "markdown",
   "metadata": {
    "tags": [
     "noshow"
    ]
   },
   "source": [
    "### Test Perceptron on Mushroom"
   ]
  },
  {
   "cell_type": "code",
   "execution_count": null,
   "metadata": {
    "tags": [
     "noshow"
    ]
   },
   "outputs": [],
   "source": [
    "pred_percept = percept_MR.predict(X_test_MR)\n",
    "print('The testing accuracy is given by: %f' % (get_acc(pred_percept, y_test_MR)))"
   ]
  },
  {
   "cell_type": "markdown",
   "metadata": {},
   "source": [
    "# Support Vector Machines (with SGD)"
   ]
  },
  {
   "cell_type": "markdown",
   "metadata": {
    "tags": [
     "noshow"
    ]
   },
   "source": [
    "Next, you will implement a \"soft margin\" SVM. In this formulation you will maximize the margin between positive and negative training examples and penalize margin violations using a hinge loss.\n",
    "\n",
    "We will optimize the SVM loss using SGD. This means you must compute the loss function with respect to model weights. You will use this gradient to update the model weights.\n",
    "\n",
    "SVM optimized with SGD has 3 hyperparameters that you can experiment with:\n",
    "- **Learning rate** - similar to as defined above in Perceptron, this parameter scales by how much the weights are changed according to the calculated gradient update. \n",
    "- **Epochs** - similar to as defined above in Perceptron.\n",
    "- **Regularization constant** - Hyperparameter to determine the strength of regularization. In this case it is a coefficient on the term which maximizes the margin. You could try different values. The default value is set to 0.05."
   ]
  },
  {
   "cell_type": "markdown",
   "metadata": {
    "tags": [
     "noshow"
    ]
   },
   "source": [
    "You will implement the SVM using SGD in the **models/svm.py**\n",
    "\n",
    "The following code: \n",
    "- Creates an instance of the SVM classifier class \n",
    "- The train function of the SVM class is trained on the training data\n",
    "- We use the predict function to find the training accuracy as well as the testing accuracy"
   ]
  },
  {
   "cell_type": "markdown",
   "metadata": {},
   "source": [
    "## Train SVM on CIFAR"
   ]
  },
  {
   "cell_type": "code",
   "execution_count": null,
   "metadata": {},
   "outputs": [],
   "source": [
    "model = SVM\n",
    "params = ModelParams()\n",
    "params.lr = 1.0\n",
    "params.n_epochs = 5\n",
    "params.reg_const = 500.0\n",
    "params.batch_size = 1000\n",
    "params._decay = DecayFunctions.linear \n",
    "\n",
    "trained_model = train(model, using = params).over(CIFAR_dataset).and_plot().and_report()"
   ]
  },
  {
   "cell_type": "code",
   "execution_count": null,
   "metadata": {
    "tags": [
     "noshow"
    ]
   },
   "outputs": [],
   "source": [
    "lr = 5.0\n",
    "n_epochs = 20\n",
    "reg_const = 50.0\n",
    "# custom parameters\n",
    "batch_size = 200\n",
    "rate_decay = partial(DecayFunctions.linear, n_epochs = n_epochs)\n",
    "\n",
    "svm_CIFAR = SVM(n_class_CIFAR, lr, n_epochs, reg_const, batch_size = batch_size, rate_decay = rate_decay)\n",
    "if generate_plots:\n",
    "    svm_CIFAR_stats = track_history_over_epochs(svm_CIFAR, X_train_CIFAR, y_train_CIFAR, X_val_CIFAR, y_val_CIFAR)\n",
    "else:\n",
    "    svm_CIFAR.train(X_train_CIFAR, y_train_CIFAR)"
   ]
  },
  {
   "cell_type": "code",
   "execution_count": null,
   "metadata": {
    "tags": [
     "noshow"
    ]
   },
   "outputs": [],
   "source": [
    "if generate_plots:\n",
    "    fig = plot_stats(svm_CIFAR_stats)\n",
    "    fig.show()"
   ]
  },
  {
   "cell_type": "code",
   "execution_count": null,
   "metadata": {
    "tags": [
     "noshow"
    ]
   },
   "outputs": [],
   "source": [
    "pred_svm = svm_CIFAR.predict(X_train_CIFAR)\n",
    "print('The training accuracy is given by: %f' % (get_acc(pred_svm, y_train_CIFAR)))"
   ]
  },
  {
   "cell_type": "markdown",
   "metadata": {
    "tags": [
     "noshow"
    ]
   },
   "source": [
    "### Validate SVM on CIFAR"
   ]
  },
  {
   "cell_type": "code",
   "execution_count": null,
   "metadata": {
    "tags": [
     "noshow"
    ]
   },
   "outputs": [],
   "source": [
    "pred_svm = svm_CIFAR.predict(X_val_CIFAR)\n",
    "print('The validation accuracy is given by: %f' % (get_acc(pred_svm, y_val_CIFAR)))"
   ]
  },
  {
   "cell_type": "markdown",
   "metadata": {
    "tags": [
     "noshow"
    ]
   },
   "source": [
    "### Test SVM on CIFAR"
   ]
  },
  {
   "cell_type": "code",
   "execution_count": null,
   "metadata": {
    "tags": [
     "noshow"
    ]
   },
   "outputs": [],
   "source": [
    "pred_svm = svm_CIFAR.predict(X_test_CIFAR)\n",
    "print('The testing accuracy is given by: %f' % (get_acc(pred_svm, y_test_CIFAR)))"
   ]
  },
  {
   "cell_type": "markdown",
   "metadata": {
    "tags": [
     "noshow"
    ]
   },
   "source": [
    "### SVM_CIFAR Kaggle Submission\n",
    "\n",
    "Once you are satisfied with your solution and test accuracy output a file to submit your test set predictions to the Kaggle for Assignment 1 CIFAR. Use the following code to do so:"
   ]
  },
  {
   "cell_type": "code",
   "execution_count": null,
   "metadata": {
    "tags": [
     "noshow"
    ]
   },
   "outputs": [],
   "source": [
    "output_submission_csv('kaggle/svm_submission_CIFAR.csv', trained_model.get_underlying_model().predict(X_test_CIFAR))"
   ]
  },
  {
   "cell_type": "markdown",
   "metadata": {},
   "source": [
    "## Train SVM on Mushroom"
   ]
  },
  {
   "cell_type": "code",
   "execution_count": null,
   "metadata": {},
   "outputs": [],
   "source": [
    "model = SVM\n",
    "params = ModelParams()\n",
    "params.lr = 0.5\n",
    "params.n_epochs = 20\n",
    "params.reg_const = 5.0\n",
    "params.batch_size = 20\n",
    "params._decay = DecayFunctions.linear \n",
    "\n",
    "trained_model = train(model, using = params).over(MR_dataset).and_plot().and_report()"
   ]
  },
  {
   "cell_type": "code",
   "execution_count": null,
   "metadata": {
    "tags": [
     "noshow"
    ]
   },
   "outputs": [],
   "source": [
    "lr = 0.5\n",
    "n_epochs = 10\n",
    "reg_const = 0.05\n",
    "# custom parameters\n",
    "batch_size = 1\n",
    "rate_decay = partial(DecayFunctions.linear, n_epochs = n_epochs)\n",
    "\n",
    "svm_MR = SVM(n_class_MR, lr, n_epochs, reg_const, batch_size = batch_size, rate_decay = rate_decay)\n",
    "if generate_plots:\n",
    "    svm_MR_stats = track_history_over_epochs(svm_MR, X_train_MR, y_train_MR, X_val_MR, y_val_MR)\n",
    "else:\n",
    "    svm_MR.train(X_train_MR, y_train_MR)"
   ]
  },
  {
   "cell_type": "code",
   "execution_count": null,
   "metadata": {
    "tags": [
     "noshow"
    ]
   },
   "outputs": [],
   "source": [
    "if generate_plots:\n",
    "    fig = plot_stats(svm_MR_stats)\n",
    "    fig.show()"
   ]
  },
  {
   "cell_type": "code",
   "execution_count": null,
   "metadata": {
    "tags": [
     "noshow"
    ]
   },
   "outputs": [],
   "source": [
    "pred_svm = svm_MR.predict(X_train_MR)\n",
    "print('The training accuracy is given by: %f' % (get_acc(pred_svm, y_train_MR)))"
   ]
  },
  {
   "cell_type": "markdown",
   "metadata": {
    "tags": [
     "noshow"
    ]
   },
   "source": [
    "### Validate SVM on Mushroom"
   ]
  },
  {
   "cell_type": "code",
   "execution_count": null,
   "metadata": {
    "tags": [
     "noshow"
    ]
   },
   "outputs": [],
   "source": [
    "pred_svm = svm_MR.predict(X_val_MR)\n",
    "print('The validation accuracy is given by: %f' % (get_acc(pred_svm, y_val_MR)))"
   ]
  },
  {
   "cell_type": "markdown",
   "metadata": {
    "tags": [
     "noshow"
    ]
   },
   "source": [
    "## Test SVM on Mushroom"
   ]
  },
  {
   "cell_type": "code",
   "execution_count": null,
   "metadata": {
    "tags": [
     "noshow"
    ]
   },
   "outputs": [],
   "source": [
    "pred_svm = svm_MR.predict(X_test_MR)\n",
    "print('The testing accuracy is given by: %f' % (get_acc(pred_svm, y_test_MR)))"
   ]
  },
  {
   "cell_type": "markdown",
   "metadata": {},
   "source": [
    "# Softmax Classifier (with SGD)"
   ]
  },
  {
   "cell_type": "markdown",
   "metadata": {
    "collapsed": true,
    "tags": [
     "noshow"
    ]
   },
   "source": [
    "Next, you will train a Softmax classifier. This classifier consists of a linear function of the input data followed by a softmax function which outputs a vector of dimension C (number of classes) for each data point. Each entry of the softmax output vector corresponds to a confidence in one of the C classes, and like a probability distribution, the entries of the output vector sum to 1. We use a cross-entropy loss on this sotmax output to train the model. \n",
    "\n",
    "Check the following link as an additional resource on softmax classification: http://cs231n.github.io/linear-classify/#softmax\n",
    "\n",
    "Once again we will train the classifier with SGD. This means you need to compute the gradients of the softmax cross-entropy loss function according to the weights and update the weights using this gradient. Check the following link to help with implementing the gradient updates: https://deepnotes.io/softmax-crossentropy"
   ]
  },
  {
   "cell_type": "markdown",
   "metadata": {
    "tags": [
     "noshow"
    ]
   },
   "source": [
    "The softmax classifier has 3 hyperparameters that you can experiment with:\n",
    "- **Learning rate** - As above, this controls how much the model weights are updated with respect to their gradient.\n",
    "- **Number of Epochs** - As described for perceptron.\n",
    "- **Regularization constant** - Hyperparameter to determine the strength of regularization. In this case, we minimize the L2 norm of the model weights as regularization, so the regularization constant is a coefficient on the L2 norm in the combined cross-entropy and regularization objective."
   ]
  },
  {
   "cell_type": "markdown",
   "metadata": {
    "tags": [
     "noshow"
    ]
   },
   "source": [
    "You will implement a softmax classifier using SGD in the **models/softmax.py**\n",
    "\n",
    "The following code: \n",
    "- Creates an instance of the Softmax classifier class \n",
    "- The train function of the Softmax class is trained on the training data\n",
    "- We use the predict function to find the training accuracy as well as the testing accuracy"
   ]
  },
  {
   "cell_type": "markdown",
   "metadata": {},
   "source": [
    "## Train Softmax on CIFAR"
   ]
  },
  {
   "cell_type": "code",
   "execution_count": null,
   "metadata": {},
   "outputs": [],
   "source": [
    "model = Softmax\n",
    "params = ModelParams()\n",
    "params.lr = 2.0\n",
    "params.n_epochs = 30\n",
    "params.reg_const = 5.0\n",
    "params.batch_size = 500\n",
    "params._decay = DecayFunctions.constant \n",
    "\n",
    "trained_model = train(model, using = params).over(CIFAR_dataset).and_plot().and_report()"
   ]
  },
  {
   "cell_type": "code",
   "execution_count": null,
   "metadata": {
    "tags": [
     "noshow"
    ]
   },
   "outputs": [],
   "source": [
    "lr = 0.5\n",
    "n_epochs = 10\n",
    "reg_const = 0.05\n",
    "# custom parameters\n",
    "batch_size = 1\n",
    "rate_decay = partial(DecayFunctions.linear, n_epochs = n_epochs)\n",
    "\n",
    "softmax_CIFAR = Softmax(n_class_CIFAR, lr, n_epochs, reg_const, batch_size = batch_size, rate_decay = rate_decay)\n",
    "if generate_plots:\n",
    "    softmax_CIFAR_stats = track_history_over_epochs(softmax_CIFAR, X_train_CIFAR, y_train_CIFAR, X_val_CIFAR, y_val_CIFAR)\n",
    "else:\n",
    "    softmax_CIFAR.train(X_train_CIFAR, y_train_CIFAR)"
   ]
  },
  {
   "cell_type": "code",
   "execution_count": null,
   "metadata": {
    "tags": [
     "noshow"
    ]
   },
   "outputs": [],
   "source": [
    "if generate_plots:\n",
    "    fig = plot_stats(softmax_CIFAR_stats)\n",
    "    fig.show()"
   ]
  },
  {
   "cell_type": "code",
   "execution_count": null,
   "metadata": {
    "tags": [
     "noshow"
    ]
   },
   "outputs": [],
   "source": [
    "# softmax_CIFAR.train(X_train_CIFAR, y_train_CIFAR)\n",
    "pred_softmax = softmax_CIFAR.predict(X_train_CIFAR)\n",
    "print('The training accuracy is given by: %f' % (get_acc(pred_softmax, y_train_CIFAR)))"
   ]
  },
  {
   "cell_type": "markdown",
   "metadata": {
    "tags": [
     "noshow"
    ]
   },
   "source": [
    "### Validate Softmax on CIFAR"
   ]
  },
  {
   "cell_type": "code",
   "execution_count": null,
   "metadata": {
    "tags": [
     "noshow"
    ]
   },
   "outputs": [],
   "source": [
    "pred_softmax = softmax_CIFAR.predict(X_val_CIFAR)\n",
    "print('The validation accuracy is given by: %f' % (get_acc(pred_softmax, y_val_CIFAR)))"
   ]
  },
  {
   "cell_type": "markdown",
   "metadata": {
    "tags": [
     "noshow"
    ]
   },
   "source": [
    "### Testing Softmax on CIFAR"
   ]
  },
  {
   "cell_type": "code",
   "execution_count": null,
   "metadata": {
    "tags": [
     "noshow"
    ]
   },
   "outputs": [],
   "source": [
    "pred_softmax = softmax_CIFAR.predict(X_test_CIFAR)\n",
    "print('The testing accuracy is given by: %f' % (get_acc(pred_softmax, y_test_CIFAR)))"
   ]
  },
  {
   "cell_type": "markdown",
   "metadata": {
    "tags": [
     "noshow"
    ]
   },
   "source": [
    "### Softmax_CIFAR Kaggle Submission\n",
    "\n",
    "Once you are satisfied with your solution and test accuracy output a file to submit your test set predictions to the Kaggle for Assignment 1 CIFAR. Use the following code to do so:"
   ]
  },
  {
   "cell_type": "code",
   "execution_count": null,
   "metadata": {
    "tags": [
     "noshow"
    ]
   },
   "outputs": [],
   "source": [
    "output_submission_csv('kaggle/softmax_submission_CIFAR.csv', trained_model.get_underlying_model().predict(X_test_CIFAR))"
   ]
  },
  {
   "cell_type": "markdown",
   "metadata": {},
   "source": [
    "## Train Softmax on Mushroom"
   ]
  },
  {
   "cell_type": "code",
   "execution_count": null,
   "metadata": {},
   "outputs": [],
   "source": [
    "model = Softmax\n",
    "params = ModelParams()\n",
    "params.lr = 0.5\n",
    "params.n_epochs = 100\n",
    "params.reg_const = 1.0\n",
    "params.batch_size = 5\n",
    "params._decay = DecayFunctions.constant \n",
    "\n",
    "trained_model = train(model, using = params).over(MR_dataset).and_plot().and_report()"
   ]
  },
  {
   "cell_type": "code",
   "execution_count": null,
   "metadata": {
    "tags": [
     "noshow"
    ]
   },
   "outputs": [],
   "source": [
    "lr = 0.5\n",
    "n_epochs = 10\n",
    "reg_const = 0.05\n",
    "# custom parameters\n",
    "batch_size = 1\n",
    "rate_decay = partial(DecayFunctions.linear, n_epochs = n_epochs)\n",
    "\n",
    "softmax_MR = Softmax(n_class_MR, lr, n_epochs, reg_const, batch_size = batch_size, rate_decay = rate_decay)\n",
    "if generate_plots:\n",
    "    softmax_MR_stats = track_history_over_epochs(softmax_MR, X_train_MR, y_train_MR, X_val_MR, y_val_MR)\n",
    "else:\n",
    "    softmax_MR.train(X_train_MR, y_train_MR)"
   ]
  },
  {
   "cell_type": "code",
   "execution_count": null,
   "metadata": {
    "tags": [
     "noshow"
    ]
   },
   "outputs": [],
   "source": [
    "if generate_plots:\n",
    "    fig = plot_stats(softmax_MR_stats)\n",
    "    fig.show()"
   ]
  },
  {
   "cell_type": "code",
   "execution_count": null,
   "metadata": {
    "tags": [
     "noshow"
    ]
   },
   "outputs": [],
   "source": [
    "pred_softmax = softmax_MR.predict(X_train_MR)\n",
    "print('The training accuracy is given by: %f' % (get_acc(pred_softmax, y_train_MR)))"
   ]
  },
  {
   "cell_type": "markdown",
   "metadata": {
    "tags": [
     "noshow"
    ]
   },
   "source": [
    "### Validate Softmax on Mushroom"
   ]
  },
  {
   "cell_type": "code",
   "execution_count": null,
   "metadata": {
    "tags": [
     "noshow"
    ]
   },
   "outputs": [],
   "source": [
    "pred_softmax = softmax_MR.predict(X_val_MR)\n",
    "print('The validation accuracy is given by: %f' % (get_acc(pred_softmax, y_val_MR)))"
   ]
  },
  {
   "cell_type": "markdown",
   "metadata": {
    "tags": [
     "noshow"
    ]
   },
   "source": [
    "### Testing Softmax on Mushroom"
   ]
  },
  {
   "cell_type": "code",
   "execution_count": null,
   "metadata": {
    "tags": [
     "noshow"
    ]
   },
   "outputs": [],
   "source": [
    "pred_softmax = softmax_MR.predict(X_test_MR)\n",
    "print('The testing accuracy is given by: %f' % (get_acc(pred_softmax, y_test_MR)))"
   ]
  },
  {
   "cell_type": "markdown",
   "metadata": {},
   "source": [
    "# Logistic Classifier"
   ]
  },
  {
   "cell_type": "markdown",
   "metadata": {
    "tags": [
     "noshow"
    ]
   },
   "source": [
    "The Logistic Classifier has 2 hyperparameters that you can experiment with:\n",
    "- **Learning rate** - similar to as defined above in Perceptron, this parameter scales by how much the weights are changed according to the calculated gradient update. \n",
    "- **Number of Epochs** - As described for perceptron.\n",
    "\n"
   ]
  },
  {
   "cell_type": "markdown",
   "metadata": {
    "tags": [
     "noshow"
    ]
   },
   "source": [
    "You will implement the Logistic Classifier in the **models/logistic.py**\n",
    "\n",
    "The following code: \n",
    "- Creates an instance of the Logistic classifier class \n",
    "- The train function of the Logistic class is trained on the training data\n",
    "- We use the predict function to find the training accuracy as well as the testing accuracy"
   ]
  },
  {
   "cell_type": "markdown",
   "metadata": {},
   "source": [
    "### Training Logistic Classifer"
   ]
  },
  {
   "cell_type": "code",
   "execution_count": null,
   "metadata": {},
   "outputs": [],
   "source": [
    "model = Logistic\n",
    "params = ModelParams()\n",
    "params.lr = 0.5\n",
    "params.n_epochs = 10\n",
    "params.batch_size = 10\n",
    "params._decay = DecayFunctions.linear \n",
    "\n",
    "trained_model = train(model, using = params).over(MR_dataset).and_plot().and_report()"
   ]
  },
  {
   "cell_type": "code",
   "execution_count": null,
   "metadata": {
    "tags": [
     "noshow"
    ]
   },
   "outputs": [],
   "source": [
    "learning_rate = 0.5\n",
    "n_epochs = 10\n",
    "# custom parameters\n",
    "batch_size = 1\n",
    "rate_decay = partial(DecayFunctions.linear, n_epochs = n_epochs)\n",
    "\n",
    "lr = Logistic(learning_rate, n_epochs, batch_size = batch_size, rate_decay = rate_decay)\n",
    "if generate_plots:\n",
    "    lr_MR_stats = track_history_over_epochs(lr, X_train_MR, y_train_MR, X_val_MR, y_val_MR)\n",
    "else:\n",
    "    lr.train(X_train_MR, y_train_MR)\n",
    "# lr.train(X_train_MR, y_train_MR)"
   ]
  },
  {
   "cell_type": "code",
   "execution_count": null,
   "metadata": {
    "tags": [
     "noshow"
    ]
   },
   "outputs": [],
   "source": [
    "if generate_plots:\n",
    "    fig = plot_stats(lr_MR_stats)\n",
    "    fig.show()"
   ]
  },
  {
   "cell_type": "code",
   "execution_count": null,
   "metadata": {
    "tags": [
     "noshow"
    ]
   },
   "outputs": [],
   "source": [
    "pred_lr = lr.predict(X_train_MR)\n",
    "print('The training accuracy is given by: %f' % (get_acc(pred_lr, y_train_MR)))"
   ]
  },
  {
   "cell_type": "markdown",
   "metadata": {
    "tags": [
     "noshow"
    ]
   },
   "source": [
    "### Validate Logistic Classifer"
   ]
  },
  {
   "cell_type": "code",
   "execution_count": null,
   "metadata": {
    "tags": [
     "noshow"
    ]
   },
   "outputs": [],
   "source": [
    "pred_lr = lr.predict(X_val_MR)\n",
    "print('The validation accuracy is given by: %f' % (get_acc(pred_lr, y_val_MR)))"
   ]
  },
  {
   "cell_type": "markdown",
   "metadata": {
    "tags": [
     "noshow"
    ]
   },
   "source": [
    "### Test Logistic Classifier"
   ]
  },
  {
   "cell_type": "code",
   "execution_count": null,
   "metadata": {
    "tags": [
     "noshow"
    ]
   },
   "outputs": [],
   "source": [
    "pred_lr = lr.predict(X_test_MR)\n",
    "print('The testing accuracy is given by: %f' % (get_acc(pred_lr, y_test_MR)))"
   ]
  },
  {
   "cell_type": "markdown",
   "metadata": {
    "tags": [
     "noshow"
    ]
   },
   "source": [
    "## Hyper-parameter search"
   ]
  },
  {
   "cell_type": "code",
   "execution_count": null,
   "metadata": {
    "tags": [
     "noshow"
    ]
   },
   "outputs": [],
   "source": [
    "import psweep as ps\n",
    "import pandas as pd\n",
    "from typing import Union\n",
    "\n",
    "def get_calc_dir(model, dataset):\n",
    "    if dataset == CIFAR_dataset:\n",
    "        return 'calc' + model.__name__\n",
    "    elif dataset == MR_dataset:\n",
    "        return 'calc' + model.__name__ + '_MR'\n",
    "    else:\n",
    "        raise RuntimeError\n",
    "\n",
    "def run_campaign(model, set_of_params, dataset = CIFAR_dataset):\n",
    "    pbar = tqdm(total = len(set_of_params), position = 1)\n",
    "    \n",
    "    def _run_training(pset):\n",
    "        params = ModelParams()\n",
    "        params.n_epochs = pset['n_epochs']\n",
    "        params.batch_size = pset['batch_size']\n",
    "        params._decay = pset['_decay']\n",
    "        params.lr = pset['lr']\n",
    "        params.reg_const = pset.get('reg_const', None)\n",
    "        pbar.update(1)\n",
    "        \n",
    "        total_trials = 3\n",
    "        validation_accuracy = np.empty(total_trials, )\n",
    "        test_accuracy = np.empty(total_trials, )\n",
    "        for trial in range(total_trials):\n",
    "            trained_model = train(model, using = params).over(dataset)\n",
    "            validation_accuracy[trial] = (trained_model.and_report_validation_accuracy())\n",
    "            test_accuracy[trial] = (trained_model.and_report_test_accuracy()) \n",
    "        return {'validation_accuracy' : validation_accuracy, 'test_accuracy' : test_accuracy}\n",
    "    \n",
    "    return ps.run(_run_training, set_of_params, calc_dir = get_calc_dir(model, dataset), simulate=False)\n",
    "\n",
    "run_CIFAR_campaign = partial(run_campaign, dataset = CIFAR_dataset)\n",
    "run_MR_campaign = partial(run_campaign, dataset = MR_dataset)\n",
    "\n",
    "# should not be none though\n",
    "def report_results_of(run_df : Union[pd.DataFrame, None], dataset = CIFAR_dataset):\n",
    "    if not isinstance(run_df, pd.DataFrame):\n",
    "        import os\n",
    "        run_df = ps.df_read(os.path.join(get_calc_dir(model, dataset), \"results.pk\"))\n",
    "    \n",
    "    loc = run_df.test_accuracy.apply(np.average).argmax()\n",
    "    print(run_df.iloc[loc])\n",
    "    return run_df"
   ]
  },
  {
   "cell_type": "markdown",
   "metadata": {
    "tags": [
     "noshow"
    ]
   },
   "source": [
    "## Perceptron search"
   ]
  },
  {
   "cell_type": "code",
   "execution_count": null,
   "metadata": {
    "tags": [
     "noshow"
    ]
   },
   "outputs": [],
   "source": [
    "model = Perceptron\n",
    "\n",
    "sweep_epochs = ps.plist('n_epochs', [5, 10, 15])\n",
    "sweep_lr = ps.plist('lr', [0.5, 1.0, 2.0])\n",
    "sweep_batch_sizes = ps.plist('batch_size', [200, 500, 1000])\n",
    "sweep_decay_functions = ps.plist('_decay', \n",
    "                                 [DecayFunctions.constant, \n",
    "                                  DecayFunctions.linear,\n",
    "                                  DecayFunctions.exponential, \n",
    "                                  DecayFunctions.cos])\n",
    "\n",
    "# another sweep\n",
    "sweep_epochs = ps.plist('n_epochs', [5, 8, 10])\n",
    "sweep_lr = ps.plist('lr', [0.5, 1.0, 2.0])\n",
    "sweep_batch_sizes = ps.plist('batch_size', [1000, 2000, 5000])\n",
    "sweep_decay_functions = ps.plist('_decay', \n",
    "                                 [DecayFunctions.constant, \n",
    "                                  DecayFunctions.linear,\n",
    "                                  DecayFunctions.exponential, \n",
    "                                  DecayFunctions.cos])\n",
    "\n",
    "\"\"\"\n",
    "# Testing parameters\n",
    "sweep_epochs = ps.plist('n_epochs', [10])\n",
    "sweep_lr = ps.plist('lr', [0.05])\n",
    "sweep_batch_sizes = ps.plist('batch_size', [100, 200])\n",
    "sweep_decay_functions = ps.plist('_decay', \n",
    "                                 [DecayFunctions.constant])\n",
    "\"\"\"\n",
    "\n",
    "df = report_results_of(\n",
    "    run_campaign(\n",
    "        model, \n",
    "        ps.pgrid(sweep_lr, sweep_epochs, sweep_batch_sizes, sweep_decay_functions)\n",
    "        )\n",
    "    )"
   ]
  },
  {
   "cell_type": "code",
   "execution_count": null,
   "metadata": {
    "tags": [
     "noshow"
    ]
   },
   "outputs": [],
   "source": [
    "model = Perceptron\n",
    "# df = ps.df_read(os.path.join(\"calc\" + model.__name__, \"results.pk\"))\n",
    "# loc = df.test_accuracy.apply(np.average).argmax()\n",
    "# print(df.iloc[loc])\n",
    "report_results_of(model)"
   ]
  },
  {
   "cell_type": "code",
   "execution_count": null,
   "metadata": {
    "tags": [
     "noshow"
    ]
   },
   "outputs": [],
   "source": [
    "model = Perceptron\n",
    "\n",
    "sweep_epochs = ps.plist('n_epochs', [5, 10, 20])\n",
    "sweep_lr = ps.plist('lr', [0.5, 1.0, 2.0])\n",
    "sweep_batch_sizes = ps.plist('batch_size', [10, 20, 50])\n",
    "sweep_decay_functions = ps.plist('_decay', \n",
    "                                 [DecayFunctions.constant, \n",
    "                                  DecayFunctions.linear,\n",
    "                                  # DecayFunctions.exponential, \n",
    "                                  # DecayFunctions.cos\n",
    "                                 ])\n",
    "\n",
    "df = report_results_of(\n",
    "    run_MR_campaign(\n",
    "        model, \n",
    "        ps.pgrid(sweep_lr, sweep_epochs, sweep_batch_sizes, sweep_decay_functions)\n",
    "        )\n",
    ")"
   ]
  },
  {
   "cell_type": "code",
   "execution_count": null,
   "metadata": {
    "tags": [
     "noshow"
    ]
   },
   "outputs": [],
   "source": [
    "model = Perceptron\n",
    "report_results_of(model, MR_dataset)"
   ]
  },
  {
   "cell_type": "markdown",
   "metadata": {
    "tags": [
     "noshow"
    ]
   },
   "source": [
    "## SVM search"
   ]
  },
  {
   "cell_type": "code",
   "execution_count": null,
   "metadata": {
    "tags": [
     "noshow"
    ]
   },
   "outputs": [],
   "source": [
    "model = SVM\n",
    "# params = ModelParams()\n",
    "# params.lr = 2.0\n",
    "# params.n_epochs = 5\n",
    "# params.reg_const = 500.0\n",
    "# params.batch_size = 2000\n",
    "# params._decay = DecayFunctions.linear \n",
    "\n",
    "sweep_epochs = ps.plist('n_epochs', [5, 10, 15])\n",
    "sweep_lr = ps.plist('lr', [0.5, 1.0, 2.0])\n",
    "sweep_batch_sizes = ps.plist('batch_size', [1000, 2000, 5000])\n",
    "sweep_reg_const = ps.plist('reg_const', [500.0, 1000.0])\n",
    "sweep_decay_functions = ps.plist('_decay', \n",
    "                                 [DecayFunctions.constant, \n",
    "                                  DecayFunctions.linear,\n",
    "                                  DecayFunctions.exponential, \n",
    "                                  DecayFunctions.cos\n",
    "                                 ])\n",
    "\n",
    "df = report_results_of(\n",
    "    run_campaign(\n",
    "        model, \n",
    "        ps.pgrid(sweep_lr, sweep_epochs, sweep_batch_sizes, sweep_reg_const, sweep_decay_functions)\n",
    "        )\n",
    ")"
   ]
  },
  {
   "cell_type": "code",
   "execution_count": null,
   "metadata": {
    "tags": [
     "noshow"
    ]
   },
   "outputs": [],
   "source": [
    "model = SVM\n",
    "report_results_of(model)"
   ]
  },
  {
   "cell_type": "code",
   "execution_count": null,
   "metadata": {
    "tags": [
     "noshow"
    ]
   },
   "outputs": [],
   "source": [
    "model = SVM\n",
    "\n",
    "sweep_epochs = ps.plist('n_epochs', [5, 10, 20])\n",
    "sweep_lr = ps.plist('lr', [0.5, 1.0, 2.0])\n",
    "sweep_batch_sizes = ps.plist('batch_size', [10, 20, 50])\n",
    "sweep_reg_const = ps.plist('reg_const', [5.0, 10.0])\n",
    "sweep_decay_functions = ps.plist('_decay', \n",
    "                                 [DecayFunctions.constant, \n",
    "                                  DecayFunctions.linear,\n",
    "                                  # DecayFunctions.exponential, \n",
    "                                  # DecayFunctions.cos\n",
    "                                 ])\n",
    "\n",
    "df = report_results_of(\n",
    "    run_MR_campaign(\n",
    "        model, \n",
    "        ps.pgrid(sweep_lr, sweep_epochs, sweep_batch_sizes, sweep_reg_const, sweep_decay_functions)\n",
    "        )\n",
    ")"
   ]
  },
  {
   "cell_type": "code",
   "execution_count": null,
   "metadata": {
    "tags": [
     "noshow"
    ]
   },
   "outputs": [],
   "source": [
    "model = SVM\n",
    "report_results_of(model, MR_dataset)"
   ]
  },
  {
   "cell_type": "markdown",
   "metadata": {
    "tags": [
     "noshow"
    ]
   },
   "source": [
    "## Softmax"
   ]
  },
  {
   "cell_type": "code",
   "execution_count": null,
   "metadata": {
    "tags": [
     "noshow"
    ]
   },
   "outputs": [],
   "source": [
    "model = Softmax\n",
    "\n",
    "sweep_epochs = ps.plist('n_epochs', [10, 20, 30])\n",
    "sweep_lr = ps.plist('lr', [0.05, 0.5, 2.0])\n",
    "sweep_batch_sizes = ps.plist('batch_size', [100, 500])\n",
    "sweep_reg_const = ps.plist('reg_const', [0.05, 0.5, 5.0])\n",
    "sweep_decay_functions = ps.plist('_decay', \n",
    "                                 [DecayFunctions.constant, \n",
    "                                  DecayFunctions.linear,\n",
    "                                  # DecayFunctions.exponential, \n",
    "                                  # DecayFunctions.cos\n",
    "                                 ])\n",
    "\n",
    "df = report_results_of(\n",
    "    run_campaign(\n",
    "        model, \n",
    "        ps.pgrid(sweep_lr, sweep_epochs, sweep_batch_sizes, sweep_reg_const, sweep_decay_functions)\n",
    "        )\n",
    ")"
   ]
  },
  {
   "cell_type": "code",
   "execution_count": null,
   "metadata": {
    "tags": [
     "noshow"
    ]
   },
   "outputs": [],
   "source": [
    "model = Softmax\n",
    "\n",
    "sweep_epochs = ps.plist('n_epochs', [50, 100])\n",
    "sweep_lr = ps.plist('lr', [0.5, 1.0, 2.0])\n",
    "sweep_batch_sizes = ps.plist('batch_size', [5, 10, 20])\n",
    "sweep_reg_const = ps.plist('reg_const', [1.0])\n",
    "sweep_decay_functions = ps.plist('_decay', \n",
    "                                 [DecayFunctions.constant, \n",
    "                                  DecayFunctions.linear,\n",
    "                                 ])\n",
    "\n",
    "df = report_results_of(\n",
    "    run_MR_campaign(\n",
    "        model, \n",
    "        ps.pgrid(sweep_lr, sweep_epochs, sweep_batch_sizes, sweep_reg_const, sweep_decay_functions)\n",
    "        )\n",
    ")"
   ]
  },
  {
   "cell_type": "code",
   "execution_count": null,
   "metadata": {
    "tags": [
     "noshow"
    ]
   },
   "outputs": [],
   "source": [
    "model = Softmax\n",
    "report_results_of(model, MR_dataset)"
   ]
  },
  {
   "cell_type": "markdown",
   "metadata": {
    "tags": [
     "noshow"
    ]
   },
   "source": [
    "## Logistic "
   ]
  },
  {
   "cell_type": "code",
   "execution_count": null,
   "metadata": {
    "tags": [
     "noshow"
    ]
   },
   "outputs": [],
   "source": [
    "model = Logistic\n",
    "\n",
    "sweep_epochs = ps.plist('n_epochs', [5, 10, 20])\n",
    "sweep_lr = ps.plist('lr', [0.5, 1.0, 2.0])\n",
    "sweep_batch_sizes = ps.plist('batch_size', [10, 20, 50])\n",
    "sweep_decay_functions = ps.plist('_decay', \n",
    "                                 [DecayFunctions.constant, \n",
    "                                  DecayFunctions.linear,\n",
    "                                  # DecayFunctions.exponential, \n",
    "                                  # DecayFunctions.cos\n",
    "                                 ])\n",
    "\n",
    "df = report_results_of(\n",
    "    run_MR_campaign(\n",
    "        model, \n",
    "        ps.pgrid(sweep_lr, sweep_epochs, sweep_batch_sizes, sweep_decay_functions)\n",
    "        )\n",
    ")"
   ]
  }
 ],
 "metadata": {
  "authors": [
   {
    "name": "Tejaswin Parthasarathy"
   }
  ],
  "celltoolbar": "Tags",
  "kernelspec": {
   "display_name": "Python 3",
   "language": "python",
   "name": "python3"
  },
  "language_info": {
   "codemirror_mode": {
    "name": "ipython",
    "version": 3
   },
   "file_extension": ".py",
   "mimetype": "text/x-python",
   "name": "python",
   "nbconvert_exporter": "python",
   "pygments_lexer": "ipython3",
   "version": "3.9.1"
  }
 },
 "nbformat": 4,
 "nbformat_minor": 1
}
